{
 "cells": [
  {
   "cell_type": "markdown",
   "id": "2a6867b2",
   "metadata": {},
   "source": [
    "### Import the libraries"
   ]
  },
  {
   "cell_type": "code",
   "execution_count": 238,
   "id": "2424713b",
   "metadata": {},
   "outputs": [],
   "source": [
    "import pandas as pd\n",
    "import numpy as np\n",
    "import sklearn\n",
    "import re\n",
    "import matplotlib.pyplot as plt\n",
    "import seaborn as sns\n",
    "from sklearn.preprocessing import LabelEncoder, StandardScaler\n",
    "from sklearn.metrics import classification_report,accuracy_score\n",
    "from sklearn.linear_model import LogisticRegression\n",
    "from xgboost import XGBClassifier\n",
    "from sklearn.cluster import KMeans\n",
    "from sklearn.model_selection import train_test_split\n",
    "%matplotlib inline\n",
    "import warnings\n",
    "warnings.filterwarnings('ignore')\n"
   ]
  },
  {
   "cell_type": "markdown",
   "id": "5243a4c8",
   "metadata": {},
   "source": [
    "### Load the datasets"
   ]
  },
  {
   "cell_type": "code",
   "execution_count": 2,
   "id": "bbf4efba",
   "metadata": {},
   "outputs": [],
   "source": [
    "kenya_customers = pd.read_csv('Kenya Customers.csv')\n",
    "kenya_deliveries = pd.read_csv('Kenya Deliveries.csv')\n",
    "kenya_orders  = pd.read_csv('Kenya Orders.csv')\n",
    "\n",
    "nigeria_customers = pd.read_csv('Nigeria Customers.csv')\n",
    "nigeria_deliveries = pd.read_csv('Nigeria Deliveries.csv')\n",
    "nigeria_orders  = pd.read_csv('Nigeria Orders.csv')"
   ]
  },
  {
   "cell_type": "markdown",
   "id": "7bae2877",
   "metadata": {},
   "source": [
    "### Gain insights on the Kenyan datasets"
   ]
  },
  {
   "cell_type": "code",
   "execution_count": 3,
   "id": "804660eb",
   "metadata": {},
   "outputs": [
    {
     "data": {
      "text/html": [
       "<div>\n",
       "<style scoped>\n",
       "    .dataframe tbody tr th:only-of-type {\n",
       "        vertical-align: middle;\n",
       "    }\n",
       "\n",
       "    .dataframe tbody tr th {\n",
       "        vertical-align: top;\n",
       "    }\n",
       "\n",
       "    .dataframe thead th {\n",
       "        text-align: right;\n",
       "    }\n",
       "</style>\n",
       "<table border=\"1\" class=\"dataframe\">\n",
       "  <thead>\n",
       "    <tr style=\"text-align: right;\">\n",
       "      <th></th>\n",
       "      <th>Customer ID</th>\n",
       "      <th>Last Used Platform</th>\n",
       "      <th>Is Blocked</th>\n",
       "      <th>Created At</th>\n",
       "      <th>Language</th>\n",
       "      <th>Outstanding Amount</th>\n",
       "      <th>Loyalty Points</th>\n",
       "      <th>Number of employees</th>\n",
       "      <th>Upload restuarant location</th>\n",
       "    </tr>\n",
       "  </thead>\n",
       "  <tbody>\n",
       "    <tr>\n",
       "      <th>0</th>\n",
       "      <td>3144837</td>\n",
       "      <td>WEB</td>\n",
       "      <td>0</td>\n",
       "      <td>2021-03-15T17:13:19.000Z</td>\n",
       "      <td>en</td>\n",
       "      <td>0</td>\n",
       "      <td>0</td>\n",
       "      <td>NaN</td>\n",
       "      <td>NaN</td>\n",
       "    </tr>\n",
       "    <tr>\n",
       "      <th>1</th>\n",
       "      <td>3174590</td>\n",
       "      <td>WEB</td>\n",
       "      <td>0</td>\n",
       "      <td>2021-03-20T14:15:11.000Z</td>\n",
       "      <td>en</td>\n",
       "      <td>0</td>\n",
       "      <td>0</td>\n",
       "      <td>NaN</td>\n",
       "      <td>NaN</td>\n",
       "    </tr>\n",
       "    <tr>\n",
       "      <th>2</th>\n",
       "      <td>3181998</td>\n",
       "      <td>WEB</td>\n",
       "      <td>0</td>\n",
       "      <td>2021-03-21T15:36:51.000Z</td>\n",
       "      <td>en</td>\n",
       "      <td>0</td>\n",
       "      <td>0</td>\n",
       "      <td>NaN</td>\n",
       "      <td>NaN</td>\n",
       "    </tr>\n",
       "    <tr>\n",
       "      <th>3</th>\n",
       "      <td>3191244</td>\n",
       "      <td>WEB</td>\n",
       "      <td>0</td>\n",
       "      <td>2021-03-23T08:54:00.000Z</td>\n",
       "      <td>en</td>\n",
       "      <td>0</td>\n",
       "      <td>367</td>\n",
       "      <td>NaN</td>\n",
       "      <td>NaN</td>\n",
       "    </tr>\n",
       "    <tr>\n",
       "      <th>4</th>\n",
       "      <td>3274222</td>\n",
       "      <td>WEB</td>\n",
       "      <td>0</td>\n",
       "      <td>2021-04-06T13:52:39.000Z</td>\n",
       "      <td>en</td>\n",
       "      <td>0</td>\n",
       "      <td>0</td>\n",
       "      <td>NaN</td>\n",
       "      <td>NaN</td>\n",
       "    </tr>\n",
       "  </tbody>\n",
       "</table>\n",
       "</div>"
      ],
      "text/plain": [
       "   Customer ID Last Used Platform  Is Blocked                Created At  \\\n",
       "0      3144837                WEB           0  2021-03-15T17:13:19.000Z   \n",
       "1      3174590                WEB           0  2021-03-20T14:15:11.000Z   \n",
       "2      3181998                WEB           0  2021-03-21T15:36:51.000Z   \n",
       "3      3191244                WEB           0  2021-03-23T08:54:00.000Z   \n",
       "4      3274222                WEB           0  2021-04-06T13:52:39.000Z   \n",
       "\n",
       "  Language  Outstanding Amount  Loyalty Points  Number of employees  \\\n",
       "0       en                   0               0                  NaN   \n",
       "1       en                   0               0                  NaN   \n",
       "2       en                   0               0                  NaN   \n",
       "3       en                   0             367                  NaN   \n",
       "4       en                   0               0                  NaN   \n",
       "\n",
       "  Upload restuarant location  \n",
       "0                        NaN  \n",
       "1                        NaN  \n",
       "2                        NaN  \n",
       "3                        NaN  \n",
       "4                        NaN  "
      ]
     },
     "execution_count": 3,
     "metadata": {},
     "output_type": "execute_result"
    }
   ],
   "source": [
    "kenya_customers.head()"
   ]
  },
  {
   "cell_type": "code",
   "execution_count": 4,
   "id": "426f983a",
   "metadata": {},
   "outputs": [
    {
     "data": {
      "text/plain": [
       "(4177, 9)"
      ]
     },
     "execution_count": 4,
     "metadata": {},
     "output_type": "execute_result"
    }
   ],
   "source": [
    "kenya_customers.shape"
   ]
  },
  {
   "cell_type": "code",
   "execution_count": 6,
   "id": "8f55d106",
   "metadata": {},
   "outputs": [
    {
     "data": {
      "text/plain": [
       "Customer ID                      0\n",
       "Last Used Platform               0\n",
       "Is Blocked                       0\n",
       "Created At                       0\n",
       "Language                         0\n",
       "Outstanding Amount               0\n",
       "Loyalty Points                   0\n",
       "Number of employees           1038\n",
       "Upload restuarant location    4158\n",
       "dtype: int64"
      ]
     },
     "execution_count": 6,
     "metadata": {},
     "output_type": "execute_result"
    }
   ],
   "source": [
    "kenya_customers.isnull().sum()"
   ]
  },
  {
   "cell_type": "code",
   "execution_count": 7,
   "id": "c2f1a11d",
   "metadata": {},
   "outputs": [
    {
     "data": {
      "text/html": [
       "<div>\n",
       "<style scoped>\n",
       "    .dataframe tbody tr th:only-of-type {\n",
       "        vertical-align: middle;\n",
       "    }\n",
       "\n",
       "    .dataframe tbody tr th {\n",
       "        vertical-align: top;\n",
       "    }\n",
       "\n",
       "    .dataframe thead th {\n",
       "        text-align: right;\n",
       "    }\n",
       "</style>\n",
       "<table border=\"1\" class=\"dataframe\">\n",
       "  <thead>\n",
       "    <tr style=\"text-align: right;\">\n",
       "      <th></th>\n",
       "      <th>Task_ID</th>\n",
       "      <th>Order_ID</th>\n",
       "      <th>Relationship</th>\n",
       "      <th>Team_Name</th>\n",
       "      <th>Task_Type</th>\n",
       "      <th>Notes</th>\n",
       "      <th>Agent_ID</th>\n",
       "      <th>Agent_Name</th>\n",
       "      <th>Distance(m)</th>\n",
       "      <th>Total_Time_Taken(min)</th>\n",
       "      <th>...</th>\n",
       "      <th>Tip</th>\n",
       "      <th>Delivery_Charges</th>\n",
       "      <th>Discount</th>\n",
       "      <th>Subtotal</th>\n",
       "      <th>Payment_Type</th>\n",
       "      <th>Task_Category</th>\n",
       "      <th>Earning</th>\n",
       "      <th>Pricing</th>\n",
       "      <th>Unnamed: 34</th>\n",
       "      <th>Unnamed: 35</th>\n",
       "    </tr>\n",
       "  </thead>\n",
       "  <tbody>\n",
       "    <tr>\n",
       "      <th>0</th>\n",
       "      <td>368110390</td>\n",
       "      <td>YR-11265216,0</td>\n",
       "      <td>3.681104e+29</td>\n",
       "      <td>Default Team</td>\n",
       "      <td>Delivery</td>\n",
       "      <td>NaN</td>\n",
       "      <td>-</td>\n",
       "      <td>-</td>\n",
       "      <td>-</td>\n",
       "      <td>-</td>\n",
       "      <td>...</td>\n",
       "      <td>-</td>\n",
       "      <td>-</td>\n",
       "      <td>-</td>\n",
       "      <td>-</td>\n",
       "      <td>-</td>\n",
       "      <td>-</td>\n",
       "      <td>-</td>\n",
       "      <td>-</td>\n",
       "      <td>NaN</td>\n",
       "      <td>NaN</td>\n",
       "    </tr>\n",
       "    <tr>\n",
       "      <th>1</th>\n",
       "      <td>368110390</td>\n",
       "      <td>YR-11265216,0</td>\n",
       "      <td>3.681104e+29</td>\n",
       "      <td>Default Team</td>\n",
       "      <td>Delivery</td>\n",
       "      <td>NaN</td>\n",
       "      <td>-</td>\n",
       "      <td>-</td>\n",
       "      <td>-</td>\n",
       "      <td>-</td>\n",
       "      <td>...</td>\n",
       "      <td>KSh 0.00</td>\n",
       "      <td>KSh 0.00</td>\n",
       "      <td>KSh 0.00</td>\n",
       "      <td>4700</td>\n",
       "      <td>CASH</td>\n",
       "      <td>-</td>\n",
       "      <td>-</td>\n",
       "      <td>-</td>\n",
       "      <td>NaN</td>\n",
       "      <td>NaN</td>\n",
       "    </tr>\n",
       "    <tr>\n",
       "      <th>2</th>\n",
       "      <td>368109621</td>\n",
       "      <td>YR-11265175,0</td>\n",
       "      <td>3.681096e+29</td>\n",
       "      <td>Default Team</td>\n",
       "      <td>Delivery</td>\n",
       "      <td>NaN</td>\n",
       "      <td>-</td>\n",
       "      <td>-</td>\n",
       "      <td>-</td>\n",
       "      <td>-</td>\n",
       "      <td>...</td>\n",
       "      <td>KSh 0.00</td>\n",
       "      <td>KSh 0.00</td>\n",
       "      <td>KSh 400.00</td>\n",
       "      <td>19500</td>\n",
       "      <td>CASH</td>\n",
       "      <td>-</td>\n",
       "      <td>-</td>\n",
       "      <td>-</td>\n",
       "      <td>NaN</td>\n",
       "      <td>NaN</td>\n",
       "    </tr>\n",
       "    <tr>\n",
       "      <th>3</th>\n",
       "      <td>368105817</td>\n",
       "      <td>YR-11265015,0</td>\n",
       "      <td>3.681058e+29</td>\n",
       "      <td>Default Team</td>\n",
       "      <td>Delivery</td>\n",
       "      <td>NaN</td>\n",
       "      <td>-</td>\n",
       "      <td>-</td>\n",
       "      <td>-</td>\n",
       "      <td>-</td>\n",
       "      <td>...</td>\n",
       "      <td>KSh 0.00</td>\n",
       "      <td>KSh 0.00</td>\n",
       "      <td>KSh 50.00</td>\n",
       "      <td>4350</td>\n",
       "      <td>CASH</td>\n",
       "      <td>-</td>\n",
       "      <td>-</td>\n",
       "      <td>-</td>\n",
       "      <td>NaN</td>\n",
       "      <td>NaN</td>\n",
       "    </tr>\n",
       "    <tr>\n",
       "      <th>4</th>\n",
       "      <td>368098308</td>\n",
       "      <td>YR-11264651,0</td>\n",
       "      <td>3.680983e+29</td>\n",
       "      <td>Default Team</td>\n",
       "      <td>Delivery</td>\n",
       "      <td>Urgently deliver by 9.30am in the morning</td>\n",
       "      <td>-</td>\n",
       "      <td>-</td>\n",
       "      <td>-</td>\n",
       "      <td>-</td>\n",
       "      <td>...</td>\n",
       "      <td>-</td>\n",
       "      <td>-</td>\n",
       "      <td>-</td>\n",
       "      <td>-</td>\n",
       "      <td>-</td>\n",
       "      <td>-</td>\n",
       "      <td>-</td>\n",
       "      <td>-</td>\n",
       "      <td>NaN</td>\n",
       "      <td>NaN</td>\n",
       "    </tr>\n",
       "  </tbody>\n",
       "</table>\n",
       "<p>5 rows × 36 columns</p>\n",
       "</div>"
      ],
      "text/plain": [
       "     Task_ID       Order_ID  Relationship     Team_Name Task_Type  \\\n",
       "0  368110390  YR-11265216,0  3.681104e+29  Default Team  Delivery   \n",
       "1  368110390  YR-11265216,0  3.681104e+29  Default Team  Delivery   \n",
       "2  368109621  YR-11265175,0  3.681096e+29  Default Team  Delivery   \n",
       "3  368105817  YR-11265015,0  3.681058e+29  Default Team  Delivery   \n",
       "4  368098308  YR-11264651,0  3.680983e+29  Default Team  Delivery   \n",
       "\n",
       "                                       Notes Agent_ID Agent_Name Distance(m)  \\\n",
       "0                                        NaN        -          -           -   \n",
       "1                                        NaN        -          -           -   \n",
       "2                                        NaN        -          -           -   \n",
       "3                                        NaN        -          -           -   \n",
       "4  Urgently deliver by 9.30am in the morning        -          -           -   \n",
       "\n",
       "  Total_Time_Taken(min)  ...       Tip Delivery_Charges    Discount Subtotal  \\\n",
       "0                     -  ...         -                -           -        -   \n",
       "1                     -  ...  KSh 0.00         KSh 0.00    KSh 0.00     4700   \n",
       "2                     -  ...  KSh 0.00         KSh 0.00  KSh 400.00    19500   \n",
       "3                     -  ...  KSh 0.00         KSh 0.00   KSh 50.00     4350   \n",
       "4                     -  ...         -                -           -        -   \n",
       "\n",
       "  Payment_Type Task_Category Earning Pricing Unnamed: 34  Unnamed: 35  \n",
       "0            -             -       -       -         NaN          NaN  \n",
       "1         CASH             -       -       -         NaN          NaN  \n",
       "2         CASH             -       -       -         NaN          NaN  \n",
       "3         CASH             -       -       -         NaN          NaN  \n",
       "4            -             -       -       -         NaN          NaN  \n",
       "\n",
       "[5 rows x 36 columns]"
      ]
     },
     "execution_count": 7,
     "metadata": {},
     "output_type": "execute_result"
    }
   ],
   "source": [
    "kenya_deliveries.head()"
   ]
  },
  {
   "cell_type": "code",
   "execution_count": 11,
   "id": "0b7460bc",
   "metadata": {},
   "outputs": [],
   "source": [
    "kenya_deliveries = kenya_deliveries[kenya_deliveries.columns].replace('-', np.nan)"
   ]
  },
  {
   "cell_type": "code",
   "execution_count": 12,
   "id": "42979b6b",
   "metadata": {},
   "outputs": [
    {
     "data": {
      "text/plain": [
       "(44983, 36)"
      ]
     },
     "execution_count": 12,
     "metadata": {},
     "output_type": "execute_result"
    }
   ],
   "source": [
    "kenya_deliveries.shape"
   ]
  },
  {
   "cell_type": "code",
   "execution_count": 13,
   "id": "8223bda6",
   "metadata": {},
   "outputs": [
    {
     "data": {
      "text/plain": [
       "Task_ID                      0\n",
       "Order_ID                     1\n",
       "Relationship                 0\n",
       "Team_Name                    0\n",
       "Task_Type                    0\n",
       "Notes                    31111\n",
       "Agent_ID                  2736\n",
       "Agent_Name                2738\n",
       "Distance(m)               6985\n",
       "Total_Time_Taken(min)      145\n",
       "Pick_up_From                 0\n",
       "Start_Before                 0\n",
       "Complete_Before              1\n",
       "Completion_Time            138\n",
       "Task_Status                  0\n",
       "Ref_Images               44874\n",
       "Rating                     109\n",
       "Review                   44816\n",
       "Latitude                   109\n",
       "Longitude                    0\n",
       "Tags                     44874\n",
       "Promo_Applied            44983\n",
       "Custom_Template_ID         109\n",
       "Task_Details_QTY             1\n",
       "Task_Details_AMOUNT          1\n",
       "Special_Instructions     39030\n",
       "Tip                      24377\n",
       "Delivery_Charges         24377\n",
       "Discount                 24377\n",
       "Subtotal                 24377\n",
       "Payment_Type             24379\n",
       "Task_Category            44944\n",
       "Earning                  28833\n",
       "Pricing                  28842\n",
       "Unnamed: 34              44948\n",
       "Unnamed: 35              44978\n",
       "dtype: int64"
      ]
     },
     "execution_count": 13,
     "metadata": {},
     "output_type": "execute_result"
    }
   ],
   "source": [
    "kenya_deliveries.isnull().sum()"
   ]
  },
  {
   "cell_type": "code",
   "execution_count": 15,
   "id": "588135ed",
   "metadata": {},
   "outputs": [
    {
     "data": {
      "text/html": [
       "<div>\n",
       "<style scoped>\n",
       "    .dataframe tbody tr th:only-of-type {\n",
       "        vertical-align: middle;\n",
       "    }\n",
       "\n",
       "    .dataframe tbody tr th {\n",
       "        vertical-align: top;\n",
       "    }\n",
       "\n",
       "    .dataframe thead th {\n",
       "        text-align: right;\n",
       "    }\n",
       "</style>\n",
       "<table border=\"1\" class=\"dataframe\">\n",
       "  <thead>\n",
       "    <tr style=\"text-align: right;\">\n",
       "      <th></th>\n",
       "      <th>Order ID</th>\n",
       "      <th>Order Status</th>\n",
       "      <th>Category Name</th>\n",
       "      <th>SKU</th>\n",
       "      <th>Customization Group</th>\n",
       "      <th>Customization Option</th>\n",
       "      <th>Quantity</th>\n",
       "      <th>Unit Price</th>\n",
       "      <th>Cost Price</th>\n",
       "      <th>Total Cost Price</th>\n",
       "      <th>...</th>\n",
       "      <th>Commission Amount</th>\n",
       "      <th>Commission Payout Status</th>\n",
       "      <th>Order Preparation Time</th>\n",
       "      <th>Debt Amount</th>\n",
       "      <th>Redeemed Loyalty Points</th>\n",
       "      <th>Consumed Loyalty Points</th>\n",
       "      <th>Cancellation Reason</th>\n",
       "      <th>Flat Discount</th>\n",
       "      <th>Checkout Template Name</th>\n",
       "      <th>Checkout Template Value</th>\n",
       "    </tr>\n",
       "  </thead>\n",
       "  <tbody>\n",
       "    <tr>\n",
       "      <th>0</th>\n",
       "      <td>11265015</td>\n",
       "      <td>ORDERED</td>\n",
       "      <td>Cooking Fat &amp; Oil</td>\n",
       "      <td>KKCO0487</td>\n",
       "      <td>NaN</td>\n",
       "      <td>NaN</td>\n",
       "      <td>1</td>\n",
       "      <td>4400</td>\n",
       "      <td>4250</td>\n",
       "      <td>4250</td>\n",
       "      <td>...</td>\n",
       "      <td>NaN</td>\n",
       "      <td>NaN</td>\n",
       "      <td>0</td>\n",
       "      <td>-</td>\n",
       "      <td>50</td>\n",
       "      <td>-</td>\n",
       "      <td>NaN</td>\n",
       "      <td>0</td>\n",
       "      <td>-</td>\n",
       "      <td>-</td>\n",
       "    </tr>\n",
       "    <tr>\n",
       "      <th>1</th>\n",
       "      <td>11264651</td>\n",
       "      <td>ORDERED</td>\n",
       "      <td>Cleaning &amp; Hygiene</td>\n",
       "      <td>KKPT280100</td>\n",
       "      <td>NaN</td>\n",
       "      <td>NaN</td>\n",
       "      <td>1</td>\n",
       "      <td>180</td>\n",
       "      <td>130</td>\n",
       "      <td>130</td>\n",
       "      <td>...</td>\n",
       "      <td>NaN</td>\n",
       "      <td>NaN</td>\n",
       "      <td>0</td>\n",
       "      <td>-</td>\n",
       "      <td>-</td>\n",
       "      <td>-</td>\n",
       "      <td>NaN</td>\n",
       "      <td>0</td>\n",
       "      <td>-</td>\n",
       "      <td>-</td>\n",
       "    </tr>\n",
       "    <tr>\n",
       "      <th>2</th>\n",
       "      <td>11264651</td>\n",
       "      <td>ORDERED</td>\n",
       "      <td>Flour &amp; Sugar</td>\n",
       "      <td>KKFS0702</td>\n",
       "      <td>NaN</td>\n",
       "      <td>NaN</td>\n",
       "      <td>6</td>\n",
       "      <td>263</td>\n",
       "      <td>247</td>\n",
       "      <td>1482</td>\n",
       "      <td>...</td>\n",
       "      <td>NaN</td>\n",
       "      <td>NaN</td>\n",
       "      <td>0</td>\n",
       "      <td>-</td>\n",
       "      <td>-</td>\n",
       "      <td>-</td>\n",
       "      <td>NaN</td>\n",
       "      <td>0</td>\n",
       "      <td>-</td>\n",
       "      <td>-</td>\n",
       "    </tr>\n",
       "    <tr>\n",
       "      <th>3</th>\n",
       "      <td>11264651</td>\n",
       "      <td>ORDERED</td>\n",
       "      <td>Salt &amp; Seasoning</td>\n",
       "      <td>KKSS0002</td>\n",
       "      <td>NaN</td>\n",
       "      <td>NaN</td>\n",
       "      <td>10</td>\n",
       "      <td>65</td>\n",
       "      <td>58</td>\n",
       "      <td>580</td>\n",
       "      <td>...</td>\n",
       "      <td>NaN</td>\n",
       "      <td>NaN</td>\n",
       "      <td>0</td>\n",
       "      <td>-</td>\n",
       "      <td>-</td>\n",
       "      <td>-</td>\n",
       "      <td>NaN</td>\n",
       "      <td>0</td>\n",
       "      <td>-</td>\n",
       "      <td>-</td>\n",
       "    </tr>\n",
       "    <tr>\n",
       "      <th>4</th>\n",
       "      <td>11264651</td>\n",
       "      <td>ORDERED</td>\n",
       "      <td>Beverages</td>\n",
       "      <td>KKBE0105</td>\n",
       "      <td>NaN</td>\n",
       "      <td>NaN</td>\n",
       "      <td>1</td>\n",
       "      <td>249</td>\n",
       "      <td>208.5</td>\n",
       "      <td>208.5</td>\n",
       "      <td>...</td>\n",
       "      <td>NaN</td>\n",
       "      <td>NaN</td>\n",
       "      <td>0</td>\n",
       "      <td>-</td>\n",
       "      <td>-</td>\n",
       "      <td>-</td>\n",
       "      <td>NaN</td>\n",
       "      <td>0</td>\n",
       "      <td>-</td>\n",
       "      <td>-</td>\n",
       "    </tr>\n",
       "  </tbody>\n",
       "</table>\n",
       "<p>5 rows × 47 columns</p>\n",
       "</div>"
      ],
      "text/plain": [
       "   Order ID Order Status       Category Name         SKU  Customization Group  \\\n",
       "0  11265015      ORDERED   Cooking Fat & Oil    KKCO0487                  NaN   \n",
       "1  11264651      ORDERED  Cleaning & Hygiene  KKPT280100                  NaN   \n",
       "2  11264651      ORDERED       Flour & Sugar    KKFS0702                  NaN   \n",
       "3  11264651      ORDERED    Salt & Seasoning    KKSS0002                  NaN   \n",
       "4  11264651      ORDERED           Beverages    KKBE0105                  NaN   \n",
       "\n",
       "   Customization Option  Quantity  Unit Price Cost Price Total Cost Price  \\\n",
       "0                   NaN         1        4400       4250             4250   \n",
       "1                   NaN         1         180        130              130   \n",
       "2                   NaN         6         263        247             1482   \n",
       "3                   NaN        10          65         58              580   \n",
       "4                   NaN         1         249      208.5            208.5   \n",
       "\n",
       "   ...  Commission Amount  Commission Payout Status  Order Preparation Time  \\\n",
       "0  ...                NaN                       NaN                       0   \n",
       "1  ...                NaN                       NaN                       0   \n",
       "2  ...                NaN                       NaN                       0   \n",
       "3  ...                NaN                       NaN                       0   \n",
       "4  ...                NaN                       NaN                       0   \n",
       "\n",
       "  Debt Amount Redeemed Loyalty Points Consumed Loyalty Points  \\\n",
       "0           -                      50                       -   \n",
       "1           -                       -                       -   \n",
       "2           -                       -                       -   \n",
       "3           -                       -                       -   \n",
       "4           -                       -                       -   \n",
       "\n",
       "  Cancellation Reason  Flat Discount Checkout Template Name  \\\n",
       "0                 NaN              0                      -   \n",
       "1                 NaN              0                      -   \n",
       "2                 NaN              0                      -   \n",
       "3                 NaN              0                      -   \n",
       "4                 NaN              0                      -   \n",
       "\n",
       "  Checkout Template Value  \n",
       "0                       -  \n",
       "1                       -  \n",
       "2                       -  \n",
       "3                       -  \n",
       "4                       -  \n",
       "\n",
       "[5 rows x 47 columns]"
      ]
     },
     "execution_count": 15,
     "metadata": {},
     "output_type": "execute_result"
    }
   ],
   "source": [
    "kenya_orders.head()"
   ]
  },
  {
   "cell_type": "code",
   "execution_count": 16,
   "id": "d21e2bef",
   "metadata": {},
   "outputs": [],
   "source": [
    "kenya_orders = kenya_orders[kenya_orders.columns].replace('-', np.nan)"
   ]
  },
  {
   "cell_type": "code",
   "execution_count": 17,
   "id": "31b990a4",
   "metadata": {},
   "outputs": [
    {
     "data": {
      "text/plain": [
       "(12242, 47)"
      ]
     },
     "execution_count": 17,
     "metadata": {},
     "output_type": "execute_result"
    }
   ],
   "source": [
    "kenya_orders.shape"
   ]
  },
  {
   "cell_type": "code",
   "execution_count": 19,
   "id": "2e480fbf",
   "metadata": {},
   "outputs": [
    {
     "data": {
      "text/plain": [
       "Order ID                        0\n",
       "Order Status                    0\n",
       "Category Name                   6\n",
       "SKU                             3\n",
       "Customization Group         12242\n",
       "Customization Option        12242\n",
       "Quantity                        0\n",
       "Unit Price                      0\n",
       "Cost Price                      6\n",
       "Total Cost Price                6\n",
       "Total Price                     0\n",
       "Order Total                     0\n",
       "Sub Total                       0\n",
       "Tax                         12242\n",
       "Delivery Charge             12242\n",
       "Tip                         12242\n",
       "Discount                    12242\n",
       "Remaining Balance               0\n",
       "Payment Method                  0\n",
       "Additional Charge           12242\n",
       "Taxable Amount              12242\n",
       "Transaction ID                  0\n",
       "Currency Symbol                 0\n",
       "Transaction Status          12242\n",
       "Promo Code                  12242\n",
       "Customer ID                     0\n",
       "Merchant ID                     0\n",
       "Store Name                      0\n",
       "Pickup Address                  0\n",
       "Description                  7073\n",
       "Distance (in km)                0\n",
       "Order Time                      0\n",
       "Pickup Time                     0\n",
       "Delivery Time                   0\n",
       "Ratings                     12210\n",
       "Reviews                     12229\n",
       "Merchant Earning            12242\n",
       "Commission Amount           12242\n",
       "Commission Payout Status    12242\n",
       "Order Preparation Time          0\n",
       "Debt Amount                 12242\n",
       "Redeemed Loyalty Points      4920\n",
       "Consumed Loyalty Points       814\n",
       "Cancellation Reason         12242\n",
       "Flat Discount                   0\n",
       "Checkout Template Name      12242\n",
       "Checkout Template Value     12242\n",
       "dtype: int64"
      ]
     },
     "execution_count": 19,
     "metadata": {},
     "output_type": "execute_result"
    }
   ],
   "source": [
    "kenya_orders.isnull().sum()"
   ]
  },
  {
   "cell_type": "code",
   "execution_count": null,
   "id": "3a66d6c7",
   "metadata": {},
   "outputs": [],
   "source": []
  },
  {
   "cell_type": "markdown",
   "id": "eddd4604",
   "metadata": {},
   "source": [
    "### Dropping all the columns with more than 80% missing data"
   ]
  },
  {
   "cell_type": "code",
   "execution_count": 26,
   "id": "9249035b",
   "metadata": {},
   "outputs": [],
   "source": [
    "#Kenya Customers"
   ]
  },
  {
   "cell_type": "code",
   "execution_count": 22,
   "id": "6cfe2791",
   "metadata": {},
   "outputs": [
    {
     "data": {
      "text/plain": [
       "Index(['Upload restuarant location'], dtype='object')"
      ]
     },
     "execution_count": 22,
     "metadata": {},
     "output_type": "execute_result"
    }
   ],
   "source": [
    "kenya_customers[kenya_customers.columns[kenya_customers.isnull().mean() > 0.8]].columns"
   ]
  },
  {
   "cell_type": "code",
   "execution_count": 23,
   "id": "2876b222",
   "metadata": {},
   "outputs": [],
   "source": [
    "kenya_customers.drop(['Upload restuarant location'],axis=1,inplace=True)"
   ]
  },
  {
   "cell_type": "code",
   "execution_count": 24,
   "id": "05124c11",
   "metadata": {},
   "outputs": [
    {
     "data": {
      "text/plain": [
       "Index(['Customer ID', 'Last Used Platform', 'Is Blocked', 'Created At',\n",
       "       'Language', 'Outstanding Amount', 'Loyalty Points',\n",
       "       'Number of employees'],\n",
       "      dtype='object')"
      ]
     },
     "execution_count": 24,
     "metadata": {},
     "output_type": "execute_result"
    }
   ],
   "source": [
    "kenya_customers.columns"
   ]
  },
  {
   "cell_type": "code",
   "execution_count": 25,
   "id": "6f3b97ab",
   "metadata": {},
   "outputs": [
    {
     "data": {
      "text/plain": [
       "(4177, 8)"
      ]
     },
     "execution_count": 25,
     "metadata": {},
     "output_type": "execute_result"
    }
   ],
   "source": [
    "kenya_customers.shape"
   ]
  },
  {
   "cell_type": "code",
   "execution_count": 27,
   "id": "44110673",
   "metadata": {},
   "outputs": [],
   "source": [
    "#Kenya deliveries"
   ]
  },
  {
   "cell_type": "code",
   "execution_count": 28,
   "id": "7019a352",
   "metadata": {},
   "outputs": [
    {
     "data": {
      "text/plain": [
       "Index(['Ref_Images', 'Review', 'Tags', 'Promo_Applied', 'Special_Instructions',\n",
       "       'Task_Category', 'Unnamed: 34', 'Unnamed: 35'],\n",
       "      dtype='object')"
      ]
     },
     "execution_count": 28,
     "metadata": {},
     "output_type": "execute_result"
    }
   ],
   "source": [
    "kenya_deliveries[kenya_deliveries.columns[kenya_deliveries.isnull().mean() > 0.8]].columns"
   ]
  },
  {
   "cell_type": "code",
   "execution_count": 34,
   "id": "0556ac80",
   "metadata": {},
   "outputs": [],
   "source": [
    "limit = len(kenya_deliveries) * .80\n",
    "kenya_deliveries = kenya_deliveries.dropna(thresh=limit, axis=1)"
   ]
  },
  {
   "cell_type": "code",
   "execution_count": 35,
   "id": "eb1ea39b",
   "metadata": {},
   "outputs": [
    {
     "data": {
      "text/plain": [
       "Index(['Task_ID', 'Order_ID', 'Relationship', 'Team_Name', 'Task_Type',\n",
       "       'Agent_ID', 'Agent_Name', 'Distance(m)', 'Total_Time_Taken(min)',\n",
       "       'Pick_up_From', 'Start_Before', 'Complete_Before', 'Completion_Time',\n",
       "       'Task_Status', 'Rating', 'Latitude', 'Longitude', 'Custom_Template_ID',\n",
       "       'Task_Details_QTY', 'Task_Details_AMOUNT'],\n",
       "      dtype='object')"
      ]
     },
     "execution_count": 35,
     "metadata": {},
     "output_type": "execute_result"
    }
   ],
   "source": [
    "kenya_deliveries.columns"
   ]
  },
  {
   "cell_type": "code",
   "execution_count": 37,
   "id": "9d202ec7",
   "metadata": {},
   "outputs": [
    {
     "data": {
      "text/plain": [
       "(44983, 20)"
      ]
     },
     "execution_count": 37,
     "metadata": {},
     "output_type": "execute_result"
    }
   ],
   "source": [
    "kenya_deliveries.shape"
   ]
  },
  {
   "cell_type": "code",
   "execution_count": 38,
   "id": "665dfd0b",
   "metadata": {},
   "outputs": [],
   "source": [
    "#Kenya Orders"
   ]
  },
  {
   "cell_type": "code",
   "execution_count": 39,
   "id": "679fa24a",
   "metadata": {},
   "outputs": [
    {
     "data": {
      "text/plain": [
       "Index(['Customization Group', 'Customization Option', 'Tax', 'Delivery Charge',\n",
       "       'Tip', 'Discount', 'Additional Charge', 'Taxable Amount',\n",
       "       'Transaction Status', 'Promo Code', 'Ratings', 'Reviews',\n",
       "       'Merchant Earning', 'Commission Amount', 'Commission Payout Status',\n",
       "       'Debt Amount', 'Cancellation Reason', 'Checkout Template Name',\n",
       "       'Checkout Template Value'],\n",
       "      dtype='object')"
      ]
     },
     "execution_count": 39,
     "metadata": {},
     "output_type": "execute_result"
    }
   ],
   "source": [
    "kenya_orders[kenya_orders.columns[kenya_orders.isnull().mean() > 0.8]].columns"
   ]
  },
  {
   "cell_type": "code",
   "execution_count": 40,
   "id": "f546b82d",
   "metadata": {},
   "outputs": [
    {
     "data": {
      "text/plain": [
       "(12242, 47)"
      ]
     },
     "execution_count": 40,
     "metadata": {},
     "output_type": "execute_result"
    }
   ],
   "source": [
    "kenya_orders.shape"
   ]
  },
  {
   "cell_type": "code",
   "execution_count": 41,
   "id": "cb501642",
   "metadata": {},
   "outputs": [],
   "source": [
    "limit = len(kenya_orders) * .80\n",
    "kenya_orders = kenya_orders.dropna(thresh=limit, axis=1)"
   ]
  },
  {
   "cell_type": "code",
   "execution_count": 42,
   "id": "2f12f1ed",
   "metadata": {},
   "outputs": [
    {
     "data": {
      "text/plain": [
       "(12242, 26)"
      ]
     },
     "execution_count": 42,
     "metadata": {},
     "output_type": "execute_result"
    }
   ],
   "source": [
    "kenya_orders.shape"
   ]
  },
  {
   "cell_type": "code",
   "execution_count": null,
   "id": "16ec8f6f",
   "metadata": {},
   "outputs": [],
   "source": [
    "#kenya_customers"
   ]
  },
  {
   "cell_type": "code",
   "execution_count": 101,
   "id": "81604e8e",
   "metadata": {},
   "outputs": [],
   "source": [
    "kenya_customers = kenya_customers.ffill().bfill()"
   ]
  },
  {
   "cell_type": "code",
   "execution_count": 102,
   "id": "87b42aa1",
   "metadata": {},
   "outputs": [
    {
     "data": {
      "text/plain": [
       "Customer ID            0\n",
       "Last Used Platform     0\n",
       "Is Blocked             0\n",
       "Created At             0\n",
       "Language               0\n",
       "Outstanding Amount     0\n",
       "Loyalty Points         0\n",
       "Number of employees    0\n",
       "dtype: int64"
      ]
     },
     "execution_count": 102,
     "metadata": {},
     "output_type": "execute_result"
    }
   ],
   "source": [
    "kenya_customers.isnull().sum()"
   ]
  },
  {
   "cell_type": "code",
   "execution_count": null,
   "id": "cb757068",
   "metadata": {},
   "outputs": [],
   "source": [
    "#kenya_deliveries"
   ]
  },
  {
   "cell_type": "code",
   "execution_count": 103,
   "id": "22f6c100",
   "metadata": {},
   "outputs": [],
   "source": [
    "kenya_deliveries = kenya_deliveries.ffill().bfill()"
   ]
  },
  {
   "cell_type": "code",
   "execution_count": 104,
   "id": "a36d3777",
   "metadata": {},
   "outputs": [
    {
     "data": {
      "text/plain": [
       "Task_ID                  0\n",
       "Order_ID                 0\n",
       "Relationship             0\n",
       "Team_Name                0\n",
       "Task_Type                0\n",
       "Agent_ID                 0\n",
       "Agent_Name               0\n",
       "Distance(m)              0\n",
       "Total_Time_Taken(min)    0\n",
       "Pick_up_From             0\n",
       "Start_Before             0\n",
       "Complete_Before          0\n",
       "Completion_Time          0\n",
       "Task_Status              0\n",
       "Rating                   0\n",
       "Latitude                 0\n",
       "Longitude                0\n",
       "Custom_Template_ID       0\n",
       "Task_Details_QTY         0\n",
       "Task_Details_AMOUNT      0\n",
       "dtype: int64"
      ]
     },
     "execution_count": 104,
     "metadata": {},
     "output_type": "execute_result"
    }
   ],
   "source": [
    "kenya_deliveries.isnull().sum()"
   ]
  },
  {
   "cell_type": "code",
   "execution_count": null,
   "id": "fab88666",
   "metadata": {},
   "outputs": [],
   "source": [
    "#kenya_orders"
   ]
  },
  {
   "cell_type": "code",
   "execution_count": 105,
   "id": "c964cdf9",
   "metadata": {},
   "outputs": [],
   "source": [
    "kenya_orders = kenya_orders.ffill().bfill()"
   ]
  },
  {
   "cell_type": "code",
   "execution_count": 106,
   "id": "290835e8",
   "metadata": {},
   "outputs": [
    {
     "data": {
      "text/plain": [
       "Order ID                   0\n",
       "Order Status               0\n",
       "Category Name              0\n",
       "SKU                        0\n",
       "Quantity                   0\n",
       "Unit Price                 0\n",
       "Cost Price                 0\n",
       "Total Cost Price           0\n",
       "Total Price                0\n",
       "Order Total                0\n",
       "Sub Total                  0\n",
       "Remaining Balance          0\n",
       "Payment Method             0\n",
       "Transaction ID             0\n",
       "Currency Symbol            0\n",
       "Customer ID                0\n",
       "Merchant ID                0\n",
       "Store Name                 0\n",
       "Pickup Address             0\n",
       "Distance (in km)           0\n",
       "Order Time                 0\n",
       "Pickup Time                0\n",
       "Delivery Time              0\n",
       "Order Preparation Time     0\n",
       "Consumed Loyalty Points    0\n",
       "Flat Discount              0\n",
       "dtype: int64"
      ]
     },
     "execution_count": 106,
     "metadata": {},
     "output_type": "execute_result"
    }
   ],
   "source": [
    "kenya_orders.isnull().sum()"
   ]
  },
  {
   "cell_type": "code",
   "execution_count": null,
   "id": "33423a22",
   "metadata": {},
   "outputs": [],
   "source": []
  },
  {
   "cell_type": "code",
   "execution_count": null,
   "id": "a7b8218c",
   "metadata": {},
   "outputs": [],
   "source": []
  },
  {
   "cell_type": "code",
   "execution_count": 44,
   "id": "d71bca8c",
   "metadata": {},
   "outputs": [],
   "source": [
    "data = pd.concat([kenya_customers,kenya_orders,kenya_deliveries], axis=0, ignore_index=True)"
   ]
  },
  {
   "cell_type": "code",
   "execution_count": 45,
   "id": "93e22ef7",
   "metadata": {},
   "outputs": [
    {
     "data": {
      "text/plain": [
       "(61402, 53)"
      ]
     },
     "execution_count": 45,
     "metadata": {},
     "output_type": "execute_result"
    }
   ],
   "source": [
    "data.shape"
   ]
  },
  {
   "cell_type": "code",
   "execution_count": 48,
   "id": "577e8441",
   "metadata": {},
   "outputs": [
    {
     "data": {
      "text/plain": [
       "Customer ID                44983\n",
       "Last Used Platform         57225\n",
       "Is Blocked                 57225\n",
       "Created At                 57225\n",
       "Language                   57225\n",
       "Outstanding Amount         57225\n",
       "Loyalty Points             57225\n",
       "Number of employees        58263\n",
       "Order ID                   49160\n",
       "Order Status               49160\n",
       "Category Name              49166\n",
       "SKU                        49163\n",
       "Quantity                   49160\n",
       "Unit Price                 49160\n",
       "Cost Price                 49166\n",
       "Total Cost Price           49166\n",
       "Total Price                49160\n",
       "Order Total                49160\n",
       "Sub Total                  49160\n",
       "Remaining Balance          49160\n",
       "Payment Method             49160\n",
       "Transaction ID             49160\n",
       "Currency Symbol            49160\n",
       "Merchant ID                49160\n",
       "Store Name                 49160\n",
       "Pickup Address             49160\n",
       "Distance (in km)           49160\n",
       "Order Time                 49160\n",
       "Pickup Time                49160\n",
       "Delivery Time              49160\n",
       "Order Preparation Time     49160\n",
       "Consumed Loyalty Points    49974\n",
       "Flat Discount              49160\n",
       "Task_ID                    16419\n",
       "Order_ID                   16420\n",
       "Relationship               16419\n",
       "Team_Name                  16419\n",
       "Task_Type                  16419\n",
       "Agent_ID                   19155\n",
       "Agent_Name                 19157\n",
       "Distance(m)                23404\n",
       "Total_Time_Taken(min)      16564\n",
       "Pick_up_From               16419\n",
       "Start_Before               16419\n",
       "Complete_Before            16420\n",
       "Completion_Time            16557\n",
       "Task_Status                16419\n",
       "Rating                     16528\n",
       "Latitude                   16528\n",
       "Longitude                  16419\n",
       "Custom_Template_ID         16528\n",
       "Task_Details_QTY           16420\n",
       "Task_Details_AMOUNT        16420\n",
       "dtype: int64"
      ]
     },
     "execution_count": 48,
     "metadata": {},
     "output_type": "execute_result"
    }
   ],
   "source": [
    "data.isnull().sum()"
   ]
  },
  {
   "cell_type": "code",
   "execution_count": null,
   "id": "6688332a",
   "metadata": {},
   "outputs": [],
   "source": []
  },
  {
   "cell_type": "code",
   "execution_count": 97,
   "id": "9ff97a6e",
   "metadata": {},
   "outputs": [],
   "source": [
    "#Nigeria Datasets"
   ]
  },
  {
   "cell_type": "code",
   "execution_count": 50,
   "id": "defaa1c0",
   "metadata": {},
   "outputs": [
    {
     "data": {
      "text/html": [
       "<div>\n",
       "<style scoped>\n",
       "    .dataframe tbody tr th:only-of-type {\n",
       "        vertical-align: middle;\n",
       "    }\n",
       "\n",
       "    .dataframe tbody tr th {\n",
       "        vertical-align: top;\n",
       "    }\n",
       "\n",
       "    .dataframe thead th {\n",
       "        text-align: right;\n",
       "    }\n",
       "</style>\n",
       "<table border=\"1\" class=\"dataframe\">\n",
       "  <thead>\n",
       "    <tr style=\"text-align: right;\">\n",
       "      <th></th>\n",
       "      <th>Customer ID</th>\n",
       "      <th>Last Used Platform</th>\n",
       "      <th>Is Blocked</th>\n",
       "      <th>Created At</th>\n",
       "      <th>Language</th>\n",
       "      <th>Outstanding Amount</th>\n",
       "      <th>Loyalty Points</th>\n",
       "      <th>Number of Employees</th>\n",
       "    </tr>\n",
       "  </thead>\n",
       "  <tbody>\n",
       "    <tr>\n",
       "      <th>0</th>\n",
       "      <td>3922702</td>\n",
       "      <td>WEB</td>\n",
       "      <td>0</td>\n",
       "      <td>2021-07-12T08:06:47.000Z</td>\n",
       "      <td>en</td>\n",
       "      <td>0</td>\n",
       "      <td>0</td>\n",
       "      <td>NaN</td>\n",
       "    </tr>\n",
       "    <tr>\n",
       "      <th>1</th>\n",
       "      <td>4058001</td>\n",
       "      <td>WEB</td>\n",
       "      <td>0</td>\n",
       "      <td>2021-08-05T08:22:35.000Z</td>\n",
       "      <td>en</td>\n",
       "      <td>0</td>\n",
       "      <td>0</td>\n",
       "      <td>NaN</td>\n",
       "    </tr>\n",
       "    <tr>\n",
       "      <th>2</th>\n",
       "      <td>4058334</td>\n",
       "      <td>WEB</td>\n",
       "      <td>0</td>\n",
       "      <td>2021-08-05T09:38:09.000Z</td>\n",
       "      <td>en</td>\n",
       "      <td>0</td>\n",
       "      <td>0</td>\n",
       "      <td>NaN</td>\n",
       "    </tr>\n",
       "    <tr>\n",
       "      <th>3</th>\n",
       "      <td>4058414</td>\n",
       "      <td>WEB</td>\n",
       "      <td>0</td>\n",
       "      <td>2021-08-05T09:56:57.000Z</td>\n",
       "      <td>en</td>\n",
       "      <td>0</td>\n",
       "      <td>0</td>\n",
       "      <td>NaN</td>\n",
       "    </tr>\n",
       "    <tr>\n",
       "      <th>4</th>\n",
       "      <td>4058431</td>\n",
       "      <td>WEB</td>\n",
       "      <td>0</td>\n",
       "      <td>2021-08-05T09:59:51.000Z</td>\n",
       "      <td>en</td>\n",
       "      <td>0</td>\n",
       "      <td>0</td>\n",
       "      <td>NaN</td>\n",
       "    </tr>\n",
       "  </tbody>\n",
       "</table>\n",
       "</div>"
      ],
      "text/plain": [
       "   Customer ID Last Used Platform  Is Blocked                Created At  \\\n",
       "0      3922702                WEB           0  2021-07-12T08:06:47.000Z   \n",
       "1      4058001                WEB           0  2021-08-05T08:22:35.000Z   \n",
       "2      4058334                WEB           0  2021-08-05T09:38:09.000Z   \n",
       "3      4058414                WEB           0  2021-08-05T09:56:57.000Z   \n",
       "4      4058431                WEB           0  2021-08-05T09:59:51.000Z   \n",
       "\n",
       "  Language  Outstanding Amount  Loyalty Points  Number of Employees  \n",
       "0       en                   0               0                  NaN  \n",
       "1       en                   0               0                  NaN  \n",
       "2       en                   0               0                  NaN  \n",
       "3       en                   0               0                  NaN  \n",
       "4       en                   0               0                  NaN  "
      ]
     },
     "execution_count": 50,
     "metadata": {},
     "output_type": "execute_result"
    }
   ],
   "source": [
    "nigeria_customers.head()"
   ]
  },
  {
   "cell_type": "code",
   "execution_count": 52,
   "id": "3c4d9d65",
   "metadata": {},
   "outputs": [
    {
     "data": {
      "text/plain": [
       "(1095, 8)"
      ]
     },
     "execution_count": 52,
     "metadata": {},
     "output_type": "execute_result"
    }
   ],
   "source": [
    "nigeria_customers.shape"
   ]
  },
  {
   "cell_type": "code",
   "execution_count": 53,
   "id": "d8d0ea4b",
   "metadata": {},
   "outputs": [
    {
     "data": {
      "text/plain": [
       "Customer ID              0\n",
       "Last Used Platform       0\n",
       "Is Blocked               0\n",
       "Created At               0\n",
       "Language                 0\n",
       "Outstanding Amount       0\n",
       "Loyalty Points           0\n",
       "Number of Employees    490\n",
       "dtype: int64"
      ]
     },
     "execution_count": 53,
     "metadata": {},
     "output_type": "execute_result"
    }
   ],
   "source": [
    "nigeria_customers.isnull().sum()"
   ]
  },
  {
   "cell_type": "code",
   "execution_count": null,
   "id": "79a4b373",
   "metadata": {},
   "outputs": [],
   "source": []
  },
  {
   "cell_type": "code",
   "execution_count": 55,
   "id": "113347df",
   "metadata": {},
   "outputs": [
    {
     "data": {
      "text/html": [
       "<div>\n",
       "<style scoped>\n",
       "    .dataframe tbody tr th:only-of-type {\n",
       "        vertical-align: middle;\n",
       "    }\n",
       "\n",
       "    .dataframe tbody tr th {\n",
       "        vertical-align: top;\n",
       "    }\n",
       "\n",
       "    .dataframe thead th {\n",
       "        text-align: right;\n",
       "    }\n",
       "</style>\n",
       "<table border=\"1\" class=\"dataframe\">\n",
       "  <thead>\n",
       "    <tr style=\"text-align: right;\">\n",
       "      <th></th>\n",
       "      <th>Task_ID</th>\n",
       "      <th>Order_ID</th>\n",
       "      <th>Relationship</th>\n",
       "      <th>Team_Name</th>\n",
       "      <th>Task_Type</th>\n",
       "      <th>Notes</th>\n",
       "      <th>Agent_ID</th>\n",
       "      <th>Distance(m)</th>\n",
       "      <th>Total_Time_Taken(min)</th>\n",
       "      <th>Pick_up_From</th>\n",
       "      <th>...</th>\n",
       "      <th>Task_Details_AMOUNT</th>\n",
       "      <th>Special_Instructions</th>\n",
       "      <th>Tip</th>\n",
       "      <th>Delivery_Charges</th>\n",
       "      <th>Discount</th>\n",
       "      <th>Subtotal</th>\n",
       "      <th>Payment_Type</th>\n",
       "      <th>Task_Category</th>\n",
       "      <th>Earning</th>\n",
       "      <th>Pricing</th>\n",
       "    </tr>\n",
       "  </thead>\n",
       "  <tbody>\n",
       "    <tr>\n",
       "      <th>0</th>\n",
       "      <td>368032956</td>\n",
       "      <td>YR-11262518,0</td>\n",
       "      <td>3.680330e+29</td>\n",
       "      <td>Default Team</td>\n",
       "      <td>Delivery</td>\n",
       "      <td>NaN</td>\n",
       "      <td>1150142</td>\n",
       "      <td>-</td>\n",
       "      <td>-</td>\n",
       "      <td>Topup Mama</td>\n",
       "      <td>...</td>\n",
       "      <td>₦ 104250.00</td>\n",
       "      <td>-</td>\n",
       "      <td>-</td>\n",
       "      <td>-</td>\n",
       "      <td>-</td>\n",
       "      <td>-</td>\n",
       "      <td>-</td>\n",
       "      <td>-</td>\n",
       "      <td>-</td>\n",
       "      <td>-</td>\n",
       "    </tr>\n",
       "    <tr>\n",
       "      <th>1</th>\n",
       "      <td>368032956</td>\n",
       "      <td>YR-11262518,0</td>\n",
       "      <td>3.680330e+29</td>\n",
       "      <td>Default Team</td>\n",
       "      <td>Delivery</td>\n",
       "      <td>NaN</td>\n",
       "      <td>1150142</td>\n",
       "      <td>-</td>\n",
       "      <td>-</td>\n",
       "      <td>Topup Mama</td>\n",
       "      <td>...</td>\n",
       "      <td>₦ 325.00</td>\n",
       "      <td>-</td>\n",
       "      <td>₦ 0.00</td>\n",
       "      <td>₦ 0.00</td>\n",
       "      <td>₦ 0.00</td>\n",
       "      <td>104575</td>\n",
       "      <td>CASH</td>\n",
       "      <td>-</td>\n",
       "      <td>-</td>\n",
       "      <td>-</td>\n",
       "    </tr>\n",
       "    <tr>\n",
       "      <th>2</th>\n",
       "      <td>368012178</td>\n",
       "      <td>YR-11261796,0</td>\n",
       "      <td>3.680122e+29</td>\n",
       "      <td>Default Team</td>\n",
       "      <td>Delivery</td>\n",
       "      <td>NaN</td>\n",
       "      <td>1166840</td>\n",
       "      <td>11</td>\n",
       "      <td>-</td>\n",
       "      <td>Topup Mama</td>\n",
       "      <td>...</td>\n",
       "      <td>₦ 104250.00</td>\n",
       "      <td>-</td>\n",
       "      <td>-</td>\n",
       "      <td>-</td>\n",
       "      <td>-</td>\n",
       "      <td>-</td>\n",
       "      <td>-</td>\n",
       "      <td>-</td>\n",
       "      <td>-</td>\n",
       "      <td>-</td>\n",
       "    </tr>\n",
       "    <tr>\n",
       "      <th>3</th>\n",
       "      <td>368012178</td>\n",
       "      <td>YR-11261796,0</td>\n",
       "      <td>3.680122e+29</td>\n",
       "      <td>Default Team</td>\n",
       "      <td>Delivery</td>\n",
       "      <td>NaN</td>\n",
       "      <td>1166840</td>\n",
       "      <td>11</td>\n",
       "      <td>-</td>\n",
       "      <td>Topup Mama</td>\n",
       "      <td>...</td>\n",
       "      <td>₦ 325.00</td>\n",
       "      <td>-</td>\n",
       "      <td>₦ 0.00</td>\n",
       "      <td>₦ 0.00</td>\n",
       "      <td>₦ 0.00</td>\n",
       "      <td>104575</td>\n",
       "      <td>CASH</td>\n",
       "      <td>-</td>\n",
       "      <td>-</td>\n",
       "      <td>-</td>\n",
       "    </tr>\n",
       "    <tr>\n",
       "      <th>4</th>\n",
       "      <td>367999205</td>\n",
       "      <td>YR-11261341,0</td>\n",
       "      <td>3.679992e+29</td>\n",
       "      <td>Default Team</td>\n",
       "      <td>Delivery</td>\n",
       "      <td>NaN</td>\n",
       "      <td>1233220</td>\n",
       "      <td>-</td>\n",
       "      <td>-</td>\n",
       "      <td>Topup Mama</td>\n",
       "      <td>...</td>\n",
       "      <td>₦ 1950.00</td>\n",
       "      <td>-</td>\n",
       "      <td>-</td>\n",
       "      <td>-</td>\n",
       "      <td>-</td>\n",
       "      <td>-</td>\n",
       "      <td>-</td>\n",
       "      <td>-</td>\n",
       "      <td>-</td>\n",
       "      <td>-</td>\n",
       "    </tr>\n",
       "  </tbody>\n",
       "</table>\n",
       "<p>5 rows × 33 columns</p>\n",
       "</div>"
      ],
      "text/plain": [
       "     Task_ID       Order_ID  Relationship     Team_Name Task_Type Notes  \\\n",
       "0  368032956  YR-11262518,0  3.680330e+29  Default Team  Delivery   NaN   \n",
       "1  368032956  YR-11262518,0  3.680330e+29  Default Team  Delivery   NaN   \n",
       "2  368012178  YR-11261796,0  3.680122e+29  Default Team  Delivery   NaN   \n",
       "3  368012178  YR-11261796,0  3.680122e+29  Default Team  Delivery   NaN   \n",
       "4  367999205  YR-11261341,0  3.679992e+29  Default Team  Delivery   NaN   \n",
       "\n",
       "  Agent_ID Distance(m) Total_Time_Taken(min) Pick_up_From  ...  \\\n",
       "0  1150142           -                     -   Topup Mama  ...   \n",
       "1  1150142           -                     -   Topup Mama  ...   \n",
       "2  1166840          11                     -   Topup Mama  ...   \n",
       "3  1166840          11                     -   Topup Mama  ...   \n",
       "4  1233220           -                     -   Topup Mama  ...   \n",
       "\n",
       "  Task_Details_AMOUNT Special_Instructions     Tip Delivery_Charges Discount  \\\n",
       "0         ₦ 104250.00                    -       -                -        -   \n",
       "1            ₦ 325.00                    -  ₦ 0.00           ₦ 0.00   ₦ 0.00   \n",
       "2         ₦ 104250.00                    -       -                -        -   \n",
       "3            ₦ 325.00                    -  ₦ 0.00           ₦ 0.00   ₦ 0.00   \n",
       "4           ₦ 1950.00                    -       -                -        -   \n",
       "\n",
       "   Subtotal Payment_Type  Task_Category  Earning  Pricing  \n",
       "0         -            -              -        -        -  \n",
       "1    104575         CASH              -        -        -  \n",
       "2         -            -              -        -        -  \n",
       "3    104575         CASH              -        -        -  \n",
       "4         -            -              -        -        -  \n",
       "\n",
       "[5 rows x 33 columns]"
      ]
     },
     "execution_count": 55,
     "metadata": {},
     "output_type": "execute_result"
    }
   ],
   "source": [
    "nigeria_deliveries.head()"
   ]
  },
  {
   "cell_type": "code",
   "execution_count": 56,
   "id": "30b6bb9e",
   "metadata": {},
   "outputs": [],
   "source": [
    "nigeria_deliveries = nigeria_deliveries[nigeria_deliveries.columns].replace('-', np.nan)"
   ]
  },
  {
   "cell_type": "code",
   "execution_count": 58,
   "id": "ce612a6a",
   "metadata": {},
   "outputs": [
    {
     "data": {
      "text/plain": [
       "(8019, 33)"
      ]
     },
     "execution_count": 58,
     "metadata": {},
     "output_type": "execute_result"
    }
   ],
   "source": [
    "nigeria_deliveries.shape"
   ]
  },
  {
   "cell_type": "code",
   "execution_count": 59,
   "id": "0f60176d",
   "metadata": {},
   "outputs": [
    {
     "data": {
      "text/plain": [
       "Task_ID                     0\n",
       "Order_ID                    0\n",
       "Relationship                0\n",
       "Team_Name                   0\n",
       "Task_Type                   0\n",
       "Notes                    8012\n",
       "Agent_ID                  721\n",
       "Distance(m)              2706\n",
       "Total_Time_Taken(min)      90\n",
       "Pick_up_From                0\n",
       "Start_Before                0\n",
       "Complete_Before             0\n",
       "Completion_Time            90\n",
       "Task_Status                 0\n",
       "Ref_Images               8019\n",
       "Rating                      0\n",
       "Review                   8007\n",
       "Latitude                    0\n",
       "Longitude                   0\n",
       "Tags                     8019\n",
       "Promo_Applied            8019\n",
       "Custom_Template_ID          0\n",
       "Task_Details_QTY            1\n",
       "Task_Details_AMOUNT         0\n",
       "Special_Instructions     8011\n",
       "Tip                      2596\n",
       "Delivery_Charges         2596\n",
       "Discount                 2594\n",
       "Subtotal                 2594\n",
       "Payment_Type             2594\n",
       "Task_Category            8019\n",
       "Earning                  8019\n",
       "Pricing                  8019\n",
       "dtype: int64"
      ]
     },
     "execution_count": 59,
     "metadata": {},
     "output_type": "execute_result"
    }
   ],
   "source": [
    "nigeria_deliveries.isnull().sum()"
   ]
  },
  {
   "cell_type": "code",
   "execution_count": 60,
   "id": "cffbb378",
   "metadata": {},
   "outputs": [
    {
     "data": {
      "text/plain": [
       "Index(['Notes', 'Ref_Images', 'Review', 'Tags', 'Promo_Applied',\n",
       "       'Special_Instructions', 'Task_Category', 'Earning', 'Pricing'],\n",
       "      dtype='object')"
      ]
     },
     "execution_count": 60,
     "metadata": {},
     "output_type": "execute_result"
    }
   ],
   "source": [
    "nigeria_deliveries[nigeria_deliveries.columns[nigeria_deliveries.isnull().mean() > 0.8]].columns"
   ]
  },
  {
   "cell_type": "code",
   "execution_count": 61,
   "id": "f0653bb1",
   "metadata": {},
   "outputs": [],
   "source": [
    "threshold = len(nigeria_deliveries) * .80\n",
    "nigeria_deliveries = nigeria_deliveries.dropna(thresh=threshold, axis=1)"
   ]
  },
  {
   "cell_type": "code",
   "execution_count": 62,
   "id": "06ecc689",
   "metadata": {},
   "outputs": [
    {
     "data": {
      "text/plain": [
       "Index(['Task_ID', 'Order_ID', 'Relationship', 'Team_Name', 'Task_Type',\n",
       "       'Agent_ID', 'Total_Time_Taken(min)', 'Pick_up_From', 'Start_Before',\n",
       "       'Complete_Before', 'Completion_Time', 'Task_Status', 'Rating',\n",
       "       'Latitude', 'Longitude', 'Custom_Template_ID', 'Task_Details_QTY',\n",
       "       'Task_Details_AMOUNT'],\n",
       "      dtype='object')"
      ]
     },
     "execution_count": 62,
     "metadata": {},
     "output_type": "execute_result"
    }
   ],
   "source": [
    "nigeria_deliveries.columns"
   ]
  },
  {
   "cell_type": "code",
   "execution_count": 63,
   "id": "d790e488",
   "metadata": {},
   "outputs": [
    {
     "data": {
      "text/plain": [
       "(8019, 18)"
      ]
     },
     "execution_count": 63,
     "metadata": {},
     "output_type": "execute_result"
    }
   ],
   "source": [
    "nigeria_deliveries.shape"
   ]
  },
  {
   "cell_type": "code",
   "execution_count": null,
   "id": "7b92aaa5",
   "metadata": {},
   "outputs": [],
   "source": []
  },
  {
   "cell_type": "code",
   "execution_count": 64,
   "id": "bfecd913",
   "metadata": {},
   "outputs": [],
   "source": [
    "# Nigeria Orders"
   ]
  },
  {
   "cell_type": "code",
   "execution_count": 65,
   "id": "afb2337b",
   "metadata": {},
   "outputs": [
    {
     "data": {
      "text/html": [
       "<div>\n",
       "<style scoped>\n",
       "    .dataframe tbody tr th:only-of-type {\n",
       "        vertical-align: middle;\n",
       "    }\n",
       "\n",
       "    .dataframe tbody tr th {\n",
       "        vertical-align: top;\n",
       "    }\n",
       "\n",
       "    .dataframe thead th {\n",
       "        text-align: right;\n",
       "    }\n",
       "</style>\n",
       "<table border=\"1\" class=\"dataframe\">\n",
       "  <thead>\n",
       "    <tr style=\"text-align: right;\">\n",
       "      <th></th>\n",
       "      <th>Order ID</th>\n",
       "      <th>Order Status</th>\n",
       "      <th>Category Name</th>\n",
       "      <th>SKU</th>\n",
       "      <th>Customization Group</th>\n",
       "      <th>Customization Option</th>\n",
       "      <th>Quantity</th>\n",
       "      <th>Unit Price</th>\n",
       "      <th>Cost Price</th>\n",
       "      <th>Total Cost Price</th>\n",
       "      <th>...</th>\n",
       "      <th>Merchant Earning</th>\n",
       "      <th>Commission Amount</th>\n",
       "      <th>Commission Payout Status</th>\n",
       "      <th>Order Preparation Time</th>\n",
       "      <th>Redeemed Loyalty Points</th>\n",
       "      <th>Consumed Loyalty Points</th>\n",
       "      <th>Cancellation Reason</th>\n",
       "      <th>Flat Discount</th>\n",
       "      <th>Checkout Template Name</th>\n",
       "      <th>Checkout Template Value</th>\n",
       "    </tr>\n",
       "  </thead>\n",
       "  <tbody>\n",
       "    <tr>\n",
       "      <th>0</th>\n",
       "      <td>11262518</td>\n",
       "      <td>ORDERED</td>\n",
       "      <td>Flour &amp; Sugar</td>\n",
       "      <td>KNFS0001</td>\n",
       "      <td>NaN</td>\n",
       "      <td>NaN</td>\n",
       "      <td>5</td>\n",
       "      <td>20850</td>\n",
       "      <td>20370</td>\n",
       "      <td>101850</td>\n",
       "      <td>...</td>\n",
       "      <td>NaN</td>\n",
       "      <td>NaN</td>\n",
       "      <td>NaN</td>\n",
       "      <td>0</td>\n",
       "      <td>-</td>\n",
       "      <td>-</td>\n",
       "      <td>NaN</td>\n",
       "      <td>0</td>\n",
       "      <td>-</td>\n",
       "      <td>-</td>\n",
       "    </tr>\n",
       "    <tr>\n",
       "      <th>1</th>\n",
       "      <td>11262518</td>\n",
       "      <td>ORDERED</td>\n",
       "      <td>Spreads</td>\n",
       "      <td>KNSP2001</td>\n",
       "      <td>NaN</td>\n",
       "      <td>NaN</td>\n",
       "      <td>1</td>\n",
       "      <td>325</td>\n",
       "      <td>300</td>\n",
       "      <td>300</td>\n",
       "      <td>...</td>\n",
       "      <td>NaN</td>\n",
       "      <td>NaN</td>\n",
       "      <td>NaN</td>\n",
       "      <td>0</td>\n",
       "      <td>-</td>\n",
       "      <td>-</td>\n",
       "      <td>NaN</td>\n",
       "      <td>0</td>\n",
       "      <td>-</td>\n",
       "      <td>-</td>\n",
       "    </tr>\n",
       "    <tr>\n",
       "      <th>2</th>\n",
       "      <td>11261796</td>\n",
       "      <td>DISPATCHED</td>\n",
       "      <td>Flour &amp; Sugar</td>\n",
       "      <td>KNFS0001</td>\n",
       "      <td>NaN</td>\n",
       "      <td>NaN</td>\n",
       "      <td>5</td>\n",
       "      <td>20850</td>\n",
       "      <td>20370</td>\n",
       "      <td>101850</td>\n",
       "      <td>...</td>\n",
       "      <td>NaN</td>\n",
       "      <td>NaN</td>\n",
       "      <td>NaN</td>\n",
       "      <td>0</td>\n",
       "      <td>-</td>\n",
       "      <td>-</td>\n",
       "      <td>NaN</td>\n",
       "      <td>0</td>\n",
       "      <td>-</td>\n",
       "      <td>-</td>\n",
       "    </tr>\n",
       "    <tr>\n",
       "      <th>3</th>\n",
       "      <td>11261796</td>\n",
       "      <td>DISPATCHED</td>\n",
       "      <td>Spreads</td>\n",
       "      <td>KNSP2001</td>\n",
       "      <td>NaN</td>\n",
       "      <td>NaN</td>\n",
       "      <td>1</td>\n",
       "      <td>325</td>\n",
       "      <td>300</td>\n",
       "      <td>300</td>\n",
       "      <td>...</td>\n",
       "      <td>NaN</td>\n",
       "      <td>NaN</td>\n",
       "      <td>NaN</td>\n",
       "      <td>0</td>\n",
       "      <td>-</td>\n",
       "      <td>-</td>\n",
       "      <td>NaN</td>\n",
       "      <td>0</td>\n",
       "      <td>-</td>\n",
       "      <td>-</td>\n",
       "    </tr>\n",
       "    <tr>\n",
       "      <th>4</th>\n",
       "      <td>11261341</td>\n",
       "      <td>ORDERED</td>\n",
       "      <td>Spreads</td>\n",
       "      <td>KNSP2001</td>\n",
       "      <td>NaN</td>\n",
       "      <td>NaN</td>\n",
       "      <td>6</td>\n",
       "      <td>325</td>\n",
       "      <td>300</td>\n",
       "      <td>1800</td>\n",
       "      <td>...</td>\n",
       "      <td>NaN</td>\n",
       "      <td>NaN</td>\n",
       "      <td>NaN</td>\n",
       "      <td>0</td>\n",
       "      <td>-</td>\n",
       "      <td>-</td>\n",
       "      <td>NaN</td>\n",
       "      <td>0</td>\n",
       "      <td>-</td>\n",
       "      <td>-</td>\n",
       "    </tr>\n",
       "  </tbody>\n",
       "</table>\n",
       "<p>5 rows × 46 columns</p>\n",
       "</div>"
      ],
      "text/plain": [
       "   Order ID Order Status  Category Name       SKU  Customization Group  \\\n",
       "0  11262518      ORDERED  Flour & Sugar  KNFS0001                  NaN   \n",
       "1  11262518      ORDERED        Spreads  KNSP2001                  NaN   \n",
       "2  11261796   DISPATCHED  Flour & Sugar  KNFS0001                  NaN   \n",
       "3  11261796   DISPATCHED        Spreads  KNSP2001                  NaN   \n",
       "4  11261341      ORDERED        Spreads  KNSP2001                  NaN   \n",
       "\n",
       "   Customization Option  Quantity  Unit Price  Cost Price  Total Cost Price  \\\n",
       "0                   NaN         5       20850       20370            101850   \n",
       "1                   NaN         1         325         300               300   \n",
       "2                   NaN         5       20850       20370            101850   \n",
       "3                   NaN         1         325         300               300   \n",
       "4                   NaN         6         325         300              1800   \n",
       "\n",
       "   ...  Merchant Earning  Commission Amount  Commission Payout Status  \\\n",
       "0  ...               NaN                NaN                       NaN   \n",
       "1  ...               NaN                NaN                       NaN   \n",
       "2  ...               NaN                NaN                       NaN   \n",
       "3  ...               NaN                NaN                       NaN   \n",
       "4  ...               NaN                NaN                       NaN   \n",
       "\n",
       "  Order Preparation Time Redeemed Loyalty Points Consumed Loyalty Points  \\\n",
       "0                      0                       -                       -   \n",
       "1                      0                       -                       -   \n",
       "2                      0                       -                       -   \n",
       "3                      0                       -                       -   \n",
       "4                      0                       -                       -   \n",
       "\n",
       "  Cancellation Reason  Flat Discount Checkout Template Name  \\\n",
       "0                 NaN              0                      -   \n",
       "1                 NaN              0                      -   \n",
       "2                 NaN              0                      -   \n",
       "3                 NaN              0                      -   \n",
       "4                 NaN              0                      -   \n",
       "\n",
       "  Checkout Template Value  \n",
       "0                       -  \n",
       "1                       -  \n",
       "2                       -  \n",
       "3                       -  \n",
       "4                       -  \n",
       "\n",
       "[5 rows x 46 columns]"
      ]
     },
     "execution_count": 65,
     "metadata": {},
     "output_type": "execute_result"
    }
   ],
   "source": [
    "nigeria_orders.head()"
   ]
  },
  {
   "cell_type": "code",
   "execution_count": 66,
   "id": "00dd7ad3",
   "metadata": {},
   "outputs": [],
   "source": [
    "nigeria_orders = nigeria_orders[nigeria_orders.columns].replace('-', np.nan)"
   ]
  },
  {
   "cell_type": "code",
   "execution_count": 69,
   "id": "b66daa3a",
   "metadata": {},
   "outputs": [
    {
     "data": {
      "text/plain": [
       "(1429, 46)"
      ]
     },
     "execution_count": 69,
     "metadata": {},
     "output_type": "execute_result"
    }
   ],
   "source": [
    "nigeria_orders.shape"
   ]
  },
  {
   "cell_type": "code",
   "execution_count": 71,
   "id": "f614f87e",
   "metadata": {},
   "outputs": [
    {
     "data": {
      "text/plain": [
       "Order ID                       0\n",
       "Order Status                   0\n",
       "Category Name                  0\n",
       "SKU                            0\n",
       "Customization Group         1429\n",
       "Customization Option        1429\n",
       "Quantity                       0\n",
       "Unit Price                     0\n",
       "Cost Price                     0\n",
       "Total Cost Price               0\n",
       "Total Price                    0\n",
       "Order Total                    0\n",
       "Sub Total                      0\n",
       "Tax                         1429\n",
       "Delivery Charge             1429\n",
       "Tip                         1429\n",
       "Discount                    1429\n",
       "Remaining Balance              0\n",
       "Payment Method                 0\n",
       "Additional Charge           1429\n",
       "Taxable Amount              1429\n",
       "Transaction ID                 0\n",
       "Currency Symbol                0\n",
       "Transaction Status          1429\n",
       "Promo Code                  1429\n",
       "Customer ID                    0\n",
       "Merchant ID                    0\n",
       "Store Name                     0\n",
       "Pickup Address              1429\n",
       "Description                 1429\n",
       "Distance (in km)               0\n",
       "Order Time                     0\n",
       "Pickup Time                    0\n",
       "Delivery Time                  0\n",
       "Ratings                     1429\n",
       "Reviews                     1429\n",
       "Merchant Earning            1429\n",
       "Commission Amount           1429\n",
       "Commission Payout Status    1429\n",
       "Order Preparation Time         0\n",
       "Redeemed Loyalty Points      924\n",
       "Consumed Loyalty Points      309\n",
       "Cancellation Reason         1429\n",
       "Flat Discount                  0\n",
       "Checkout Template Name      1429\n",
       "Checkout Template Value     1429\n",
       "dtype: int64"
      ]
     },
     "execution_count": 71,
     "metadata": {},
     "output_type": "execute_result"
    }
   ],
   "source": [
    "nigeria_orders.isnull().sum()"
   ]
  },
  {
   "cell_type": "code",
   "execution_count": 72,
   "id": "db82bdf4",
   "metadata": {},
   "outputs": [
    {
     "data": {
      "text/plain": [
       "Index(['Customization Group', 'Customization Option', 'Tax', 'Delivery Charge',\n",
       "       'Tip', 'Discount', 'Additional Charge', 'Taxable Amount',\n",
       "       'Transaction Status', 'Promo Code', 'Pickup Address', 'Description',\n",
       "       'Ratings', 'Reviews', 'Merchant Earning', 'Commission Amount',\n",
       "       'Commission Payout Status', 'Cancellation Reason',\n",
       "       'Checkout Template Name', 'Checkout Template Value'],\n",
       "      dtype='object')"
      ]
     },
     "execution_count": 72,
     "metadata": {},
     "output_type": "execute_result"
    }
   ],
   "source": [
    "nigeria_orders[nigeria_orders.columns[nigeria_orders.isnull().mean() > 0.8]].columns"
   ]
  },
  {
   "cell_type": "code",
   "execution_count": 73,
   "id": "f8b44f2d",
   "metadata": {},
   "outputs": [],
   "source": [
    "threshold = len(nigeria_orders) * .80\n",
    "nigeria_orders = nigeria_orders.dropna(thresh=threshold, axis=1)"
   ]
  },
  {
   "cell_type": "code",
   "execution_count": 75,
   "id": "4249471c",
   "metadata": {},
   "outputs": [
    {
     "data": {
      "text/plain": [
       "(1429, 24)"
      ]
     },
     "execution_count": 75,
     "metadata": {},
     "output_type": "execute_result"
    }
   ],
   "source": [
    "nigeria_orders.shape"
   ]
  },
  {
   "cell_type": "code",
   "execution_count": null,
   "id": "8aaece0a",
   "metadata": {},
   "outputs": [],
   "source": []
  },
  {
   "cell_type": "markdown",
   "id": "ea34d94d",
   "metadata": {},
   "source": [
    "### Fill in missing values for Nigerian datasets"
   ]
  },
  {
   "cell_type": "code",
   "execution_count": null,
   "id": "b310c448",
   "metadata": {},
   "outputs": [],
   "source": [
    "#nigeria_customers"
   ]
  },
  {
   "cell_type": "code",
   "execution_count": 108,
   "id": "6eeb36fc",
   "metadata": {},
   "outputs": [],
   "source": [
    "nigeria_customers = nigeria_customers.ffill().bfill()"
   ]
  },
  {
   "cell_type": "code",
   "execution_count": 109,
   "id": "18d37424",
   "metadata": {},
   "outputs": [
    {
     "data": {
      "text/plain": [
       "Customer ID            0\n",
       "Last Used Platform     0\n",
       "Is Blocked             0\n",
       "Created At             0\n",
       "Language               0\n",
       "Outstanding Amount     0\n",
       "Loyalty Points         0\n",
       "Number of Employees    0\n",
       "dtype: int64"
      ]
     },
     "execution_count": 109,
     "metadata": {},
     "output_type": "execute_result"
    }
   ],
   "source": [
    "nigeria_customers.isnull().sum()"
   ]
  },
  {
   "cell_type": "code",
   "execution_count": null,
   "id": "84be1234",
   "metadata": {},
   "outputs": [],
   "source": [
    "#nigeria_deliveries"
   ]
  },
  {
   "cell_type": "code",
   "execution_count": 110,
   "id": "d5dcab96",
   "metadata": {},
   "outputs": [],
   "source": [
    "nigeria_deliveries = nigeria_deliveries.ffill().bfill()"
   ]
  },
  {
   "cell_type": "code",
   "execution_count": 111,
   "id": "98f68e7f",
   "metadata": {},
   "outputs": [
    {
     "data": {
      "text/plain": [
       "Task_ID                  0\n",
       "Order_ID                 0\n",
       "Relationship             0\n",
       "Team_Name                0\n",
       "Task_Type                0\n",
       "Agent_ID                 0\n",
       "Total_Time_Taken(min)    0\n",
       "Pick_up_From             0\n",
       "Start_Before             0\n",
       "Complete_Before          0\n",
       "Completion_Time          0\n",
       "Task_Status              0\n",
       "Rating                   0\n",
       "Latitude                 0\n",
       "Longitude                0\n",
       "Custom_Template_ID       0\n",
       "Task_Details_QTY         0\n",
       "Task_Details_AMOUNT      0\n",
       "dtype: int64"
      ]
     },
     "execution_count": 111,
     "metadata": {},
     "output_type": "execute_result"
    }
   ],
   "source": [
    "nigeria_deliveries.isnull().sum()"
   ]
  },
  {
   "cell_type": "code",
   "execution_count": null,
   "id": "3982e5b7",
   "metadata": {},
   "outputs": [],
   "source": [
    "#nigeria_orders"
   ]
  },
  {
   "cell_type": "code",
   "execution_count": 112,
   "id": "52a94719",
   "metadata": {},
   "outputs": [],
   "source": [
    "nigeria_orders = nigeria_orders.ffill().bfill()"
   ]
  },
  {
   "cell_type": "code",
   "execution_count": 113,
   "id": "a9a1213a",
   "metadata": {},
   "outputs": [
    {
     "data": {
      "text/plain": [
       "Order ID                  0\n",
       "Order Status              0\n",
       "Category Name             0\n",
       "SKU                       0\n",
       "Quantity                  0\n",
       "Unit Price                0\n",
       "Cost Price                0\n",
       "Total Cost Price          0\n",
       "Total Price               0\n",
       "Order Total               0\n",
       "Sub Total                 0\n",
       "Remaining Balance         0\n",
       "Payment Method            0\n",
       "Transaction ID            0\n",
       "Currency Symbol           0\n",
       "Customer ID               0\n",
       "Merchant ID               0\n",
       "Store Name                0\n",
       "Distance (in km)          0\n",
       "Order Time                0\n",
       "Pickup Time               0\n",
       "Delivery Time             0\n",
       "Order Preparation Time    0\n",
       "Flat Discount             0\n",
       "dtype: int64"
      ]
     },
     "execution_count": 113,
     "metadata": {},
     "output_type": "execute_result"
    }
   ],
   "source": [
    "nigeria_orders.isnull().sum()"
   ]
  },
  {
   "cell_type": "code",
   "execution_count": null,
   "id": "0dee132d",
   "metadata": {},
   "outputs": [],
   "source": []
  },
  {
   "cell_type": "code",
   "execution_count": null,
   "id": "33209e6a",
   "metadata": {},
   "outputs": [],
   "source": []
  },
  {
   "cell_type": "code",
   "execution_count": 76,
   "id": "fe629800",
   "metadata": {},
   "outputs": [],
   "source": [
    "data2 = pd.concat([nigeria_customers,nigeria_orders,nigeria_deliveries], axis=0, ignore_index=True)"
   ]
  },
  {
   "cell_type": "code",
   "execution_count": 78,
   "id": "db7f3007",
   "metadata": {},
   "outputs": [
    {
     "data": {
      "text/html": [
       "<div>\n",
       "<style scoped>\n",
       "    .dataframe tbody tr th:only-of-type {\n",
       "        vertical-align: middle;\n",
       "    }\n",
       "\n",
       "    .dataframe tbody tr th {\n",
       "        vertical-align: top;\n",
       "    }\n",
       "\n",
       "    .dataframe thead th {\n",
       "        text-align: right;\n",
       "    }\n",
       "</style>\n",
       "<table border=\"1\" class=\"dataframe\">\n",
       "  <thead>\n",
       "    <tr style=\"text-align: right;\">\n",
       "      <th></th>\n",
       "      <th>Customer ID</th>\n",
       "      <th>Last Used Platform</th>\n",
       "      <th>Is Blocked</th>\n",
       "      <th>Created At</th>\n",
       "      <th>Language</th>\n",
       "      <th>Outstanding Amount</th>\n",
       "      <th>Loyalty Points</th>\n",
       "      <th>Number of Employees</th>\n",
       "      <th>Order ID</th>\n",
       "      <th>Order Status</th>\n",
       "      <th>...</th>\n",
       "      <th>Start_Before</th>\n",
       "      <th>Complete_Before</th>\n",
       "      <th>Completion_Time</th>\n",
       "      <th>Task_Status</th>\n",
       "      <th>Rating</th>\n",
       "      <th>Latitude</th>\n",
       "      <th>Longitude</th>\n",
       "      <th>Custom_Template_ID</th>\n",
       "      <th>Task_Details_QTY</th>\n",
       "      <th>Task_Details_AMOUNT</th>\n",
       "    </tr>\n",
       "  </thead>\n",
       "  <tbody>\n",
       "    <tr>\n",
       "      <th>10538</th>\n",
       "      <td>NaN</td>\n",
       "      <td>NaN</td>\n",
       "      <td>NaN</td>\n",
       "      <td>NaN</td>\n",
       "      <td>NaN</td>\n",
       "      <td>NaN</td>\n",
       "      <td>NaN</td>\n",
       "      <td>NaN</td>\n",
       "      <td>NaN</td>\n",
       "      <td>NaN</td>\n",
       "      <td>...</td>\n",
       "      <td>05 Aug 2021 11:13:26 am</td>\n",
       "      <td>05 Aug 2021 01:30:00 pm</td>\n",
       "      <td>05 Aug 2021 11:34:24 am</td>\n",
       "      <td>Cancelled</td>\n",
       "      <td>0.0</td>\n",
       "      <td>6.548535</td>\n",
       "      <td>3.327299</td>\n",
       "      <td>Order_Details</td>\n",
       "      <td>5</td>\n",
       "      <td>₦ 10000.00</td>\n",
       "    </tr>\n",
       "    <tr>\n",
       "      <th>10539</th>\n",
       "      <td>NaN</td>\n",
       "      <td>NaN</td>\n",
       "      <td>NaN</td>\n",
       "      <td>NaN</td>\n",
       "      <td>NaN</td>\n",
       "      <td>NaN</td>\n",
       "      <td>NaN</td>\n",
       "      <td>NaN</td>\n",
       "      <td>NaN</td>\n",
       "      <td>NaN</td>\n",
       "      <td>...</td>\n",
       "      <td>05 Aug 2021 03:30:00 pm</td>\n",
       "      <td>06 Aug 2021 10:30:00 am</td>\n",
       "      <td>07 Aug 2021 07:10:34 pm</td>\n",
       "      <td>Cancelled</td>\n",
       "      <td>0.0</td>\n",
       "      <td>-1.292066</td>\n",
       "      <td>36.821946</td>\n",
       "      <td>Order_Details</td>\n",
       "      <td>1</td>\n",
       "      <td>₦ 17000.00</td>\n",
       "    </tr>\n",
       "    <tr>\n",
       "      <th>10540</th>\n",
       "      <td>NaN</td>\n",
       "      <td>NaN</td>\n",
       "      <td>NaN</td>\n",
       "      <td>NaN</td>\n",
       "      <td>NaN</td>\n",
       "      <td>NaN</td>\n",
       "      <td>NaN</td>\n",
       "      <td>NaN</td>\n",
       "      <td>NaN</td>\n",
       "      <td>NaN</td>\n",
       "      <td>...</td>\n",
       "      <td>05 Aug 2021 03:30:00 pm</td>\n",
       "      <td>06 Aug 2021 10:30:00 am</td>\n",
       "      <td>07 Aug 2021 04:31:10 pm</td>\n",
       "      <td>Cancelled</td>\n",
       "      <td>0.0</td>\n",
       "      <td>47.602190</td>\n",
       "      <td>-122.333490</td>\n",
       "      <td>Order_Details</td>\n",
       "      <td>1</td>\n",
       "      <td>₦ 17000.00</td>\n",
       "    </tr>\n",
       "    <tr>\n",
       "      <th>10541</th>\n",
       "      <td>NaN</td>\n",
       "      <td>NaN</td>\n",
       "      <td>NaN</td>\n",
       "      <td>NaN</td>\n",
       "      <td>NaN</td>\n",
       "      <td>NaN</td>\n",
       "      <td>NaN</td>\n",
       "      <td>NaN</td>\n",
       "      <td>NaN</td>\n",
       "      <td>NaN</td>\n",
       "      <td>...</td>\n",
       "      <td>06 Aug 2021 07:30:00 am</td>\n",
       "      <td>06 Aug 2021 08:00:00 am</td>\n",
       "      <td>05 Aug 2021 03:34:52 pm</td>\n",
       "      <td>Cancelled</td>\n",
       "      <td>0.0</td>\n",
       "      <td>6.425065</td>\n",
       "      <td>3.420103</td>\n",
       "      <td>Order_Details</td>\n",
       "      <td>5</td>\n",
       "      <td>₦ 10000.00</td>\n",
       "    </tr>\n",
       "    <tr>\n",
       "      <th>10542</th>\n",
       "      <td>NaN</td>\n",
       "      <td>NaN</td>\n",
       "      <td>NaN</td>\n",
       "      <td>NaN</td>\n",
       "      <td>NaN</td>\n",
       "      <td>NaN</td>\n",
       "      <td>NaN</td>\n",
       "      <td>NaN</td>\n",
       "      <td>NaN</td>\n",
       "      <td>NaN</td>\n",
       "      <td>...</td>\n",
       "      <td>06 Aug 2021 07:30:00 am</td>\n",
       "      <td>06 Aug 2021 08:00:00 am</td>\n",
       "      <td>05 Aug 2021 03:34:52 pm</td>\n",
       "      <td>Cancelled</td>\n",
       "      <td>0.0</td>\n",
       "      <td>47.602190</td>\n",
       "      <td>-122.333490</td>\n",
       "      <td>Order_Details</td>\n",
       "      <td>5</td>\n",
       "      <td>₦ 10000.00</td>\n",
       "    </tr>\n",
       "  </tbody>\n",
       "</table>\n",
       "<p>5 rows × 49 columns</p>\n",
       "</div>"
      ],
      "text/plain": [
       "       Customer ID Last Used Platform  Is Blocked Created At Language  \\\n",
       "10538          NaN                NaN         NaN        NaN      NaN   \n",
       "10539          NaN                NaN         NaN        NaN      NaN   \n",
       "10540          NaN                NaN         NaN        NaN      NaN   \n",
       "10541          NaN                NaN         NaN        NaN      NaN   \n",
       "10542          NaN                NaN         NaN        NaN      NaN   \n",
       "\n",
       "       Outstanding Amount  Loyalty Points  Number of Employees  Order ID  \\\n",
       "10538                 NaN             NaN                  NaN       NaN   \n",
       "10539                 NaN             NaN                  NaN       NaN   \n",
       "10540                 NaN             NaN                  NaN       NaN   \n",
       "10541                 NaN             NaN                  NaN       NaN   \n",
       "10542                 NaN             NaN                  NaN       NaN   \n",
       "\n",
       "      Order Status  ...             Start_Before          Complete_Before  \\\n",
       "10538          NaN  ...  05 Aug 2021 11:13:26 am  05 Aug 2021 01:30:00 pm   \n",
       "10539          NaN  ...  05 Aug 2021 03:30:00 pm  06 Aug 2021 10:30:00 am   \n",
       "10540          NaN  ...  05 Aug 2021 03:30:00 pm  06 Aug 2021 10:30:00 am   \n",
       "10541          NaN  ...  06 Aug 2021 07:30:00 am  06 Aug 2021 08:00:00 am   \n",
       "10542          NaN  ...  06 Aug 2021 07:30:00 am  06 Aug 2021 08:00:00 am   \n",
       "\n",
       "               Completion_Time  Task_Status  Rating   Latitude   Longitude  \\\n",
       "10538  05 Aug 2021 11:34:24 am    Cancelled     0.0   6.548535    3.327299   \n",
       "10539  07 Aug 2021 07:10:34 pm    Cancelled     0.0  -1.292066   36.821946   \n",
       "10540  07 Aug 2021 04:31:10 pm    Cancelled     0.0  47.602190 -122.333490   \n",
       "10541  05 Aug 2021 03:34:52 pm    Cancelled     0.0   6.425065    3.420103   \n",
       "10542  05 Aug 2021 03:34:52 pm    Cancelled     0.0  47.602190 -122.333490   \n",
       "\n",
       "       Custom_Template_ID  Task_Details_QTY  Task_Details_AMOUNT  \n",
       "10538       Order_Details                 5           ₦ 10000.00  \n",
       "10539       Order_Details                 1           ₦ 17000.00  \n",
       "10540       Order_Details                 1           ₦ 17000.00  \n",
       "10541       Order_Details                 5           ₦ 10000.00  \n",
       "10542       Order_Details                 5           ₦ 10000.00  \n",
       "\n",
       "[5 rows x 49 columns]"
      ]
     },
     "execution_count": 78,
     "metadata": {},
     "output_type": "execute_result"
    }
   ],
   "source": [
    "data2.tail()"
   ]
  },
  {
   "cell_type": "code",
   "execution_count": 79,
   "id": "84b7aa93",
   "metadata": {},
   "outputs": [
    {
     "data": {
      "text/plain": [
       "(10543, 49)"
      ]
     },
     "execution_count": 79,
     "metadata": {},
     "output_type": "execute_result"
    }
   ],
   "source": [
    "data2.shape"
   ]
  },
  {
   "cell_type": "code",
   "execution_count": null,
   "id": "6cac4090",
   "metadata": {},
   "outputs": [],
   "source": []
  },
  {
   "cell_type": "markdown",
   "id": "4b71b96c",
   "metadata": {},
   "source": [
    "### View both combined datasets for Kenya and Nigeria"
   ]
  },
  {
   "cell_type": "code",
   "execution_count": null,
   "id": "c59be734",
   "metadata": {},
   "outputs": [],
   "source": [
    "kenya_customers = pd.read_csv('Kenya Customers.csv')\n",
    "kenya_deliveries = pd.read_csv('Kenya Deliveries.csv')\n",
    "kenya_orders  = pd.read_csv('Kenya Orders.csv')\n",
    "\n",
    "nigeria_customers = pd.read_csv('Nigeria Customers.csv')\n",
    "nigeria_deliveries = pd.read_csv('Nigeria Deliveries.csv')\n",
    "nigeria_orders  = pd.read_csv('Nigeria Orders.csv')"
   ]
  },
  {
   "cell_type": "code",
   "execution_count": 114,
   "id": "3e6a8d6e",
   "metadata": {},
   "outputs": [
    {
     "data": {
      "text/plain": [
       "((4177, 8), (1095, 8))"
      ]
     },
     "execution_count": 114,
     "metadata": {},
     "output_type": "execute_result"
    }
   ],
   "source": [
    "kenya_customers.shape  , nigeria_customers.shape"
   ]
  },
  {
   "cell_type": "code",
   "execution_count": 115,
   "id": "38a5d6c9",
   "metadata": {},
   "outputs": [
    {
     "data": {
      "text/plain": [
       "((44983, 20), (8019, 18))"
      ]
     },
     "execution_count": 115,
     "metadata": {},
     "output_type": "execute_result"
    }
   ],
   "source": [
    "kenya_deliveries.shape , nigeria_deliveries.shape"
   ]
  },
  {
   "cell_type": "code",
   "execution_count": 116,
   "id": "9d971336",
   "metadata": {},
   "outputs": [
    {
     "data": {
      "text/plain": [
       "((12242, 26), (1429, 24))"
      ]
     },
     "execution_count": 116,
     "metadata": {},
     "output_type": "execute_result"
    }
   ],
   "source": [
    "kenya_orders.shape , nigeria_orders.shape"
   ]
  },
  {
   "cell_type": "code",
   "execution_count": null,
   "id": "5e1186f0",
   "metadata": {},
   "outputs": [],
   "source": []
  },
  {
   "cell_type": "markdown",
   "id": "9f2d295f",
   "metadata": {},
   "source": [
    "## ORDERS "
   ]
  },
  {
   "cell_type": "code",
   "execution_count": null,
   "id": "82c9302a",
   "metadata": {},
   "outputs": [],
   "source": []
  },
  {
   "cell_type": "code",
   "execution_count": 117,
   "id": "1ce63bd2",
   "metadata": {},
   "outputs": [
    {
     "data": {
      "text/plain": [
       "Index(['Order ID', 'Order Status', 'Category Name', 'SKU', 'Quantity',\n",
       "       'Unit Price', 'Cost Price', 'Total Cost Price', 'Total Price',\n",
       "       'Order Total', 'Sub Total', 'Remaining Balance', 'Payment Method',\n",
       "       'Transaction ID', 'Currency Symbol', 'Customer ID', 'Merchant ID',\n",
       "       'Store Name', 'Distance (in km)', 'Order Time', 'Pickup Time',\n",
       "       'Delivery Time', 'Order Preparation Time', 'Flat Discount'],\n",
       "      dtype='object')"
      ]
     },
     "execution_count": 117,
     "metadata": {},
     "output_type": "execute_result"
    }
   ],
   "source": [
    "nigeria_orders.columns"
   ]
  },
  {
   "cell_type": "code",
   "execution_count": 119,
   "id": "d6e715fc",
   "metadata": {},
   "outputs": [
    {
     "data": {
      "text/plain": [
       "Index(['Order ID', 'Order Status', 'Category Name', 'SKU', 'Quantity',\n",
       "       'Unit Price', 'Cost Price', 'Total Cost Price', 'Total Price',\n",
       "       'Order Total', 'Sub Total', 'Remaining Balance', 'Payment Method',\n",
       "       'Transaction ID', 'Currency Symbol', 'Customer ID', 'Merchant ID',\n",
       "       'Store Name', 'Pickup Address', 'Distance (in km)', 'Order Time',\n",
       "       'Pickup Time', 'Delivery Time', 'Order Preparation Time',\n",
       "       'Consumed Loyalty Points', 'Flat Discount'],\n",
       "      dtype='object')"
      ]
     },
     "execution_count": 119,
     "metadata": {},
     "output_type": "execute_result"
    }
   ],
   "source": [
    "kenya_orders.columns"
   ]
  },
  {
   "cell_type": "code",
   "execution_count": 120,
   "id": "e77865f5",
   "metadata": {},
   "outputs": [],
   "source": [
    "Orders = pd.concat([kenya_orders, nigeria_orders], axis=0)"
   ]
  },
  {
   "cell_type": "code",
   "execution_count": 121,
   "id": "5abc443a",
   "metadata": {},
   "outputs": [
    {
     "data": {
      "text/html": [
       "<div>\n",
       "<style scoped>\n",
       "    .dataframe tbody tr th:only-of-type {\n",
       "        vertical-align: middle;\n",
       "    }\n",
       "\n",
       "    .dataframe tbody tr th {\n",
       "        vertical-align: top;\n",
       "    }\n",
       "\n",
       "    .dataframe thead th {\n",
       "        text-align: right;\n",
       "    }\n",
       "</style>\n",
       "<table border=\"1\" class=\"dataframe\">\n",
       "  <thead>\n",
       "    <tr style=\"text-align: right;\">\n",
       "      <th></th>\n",
       "      <th>Order ID</th>\n",
       "      <th>Order Status</th>\n",
       "      <th>Category Name</th>\n",
       "      <th>SKU</th>\n",
       "      <th>Quantity</th>\n",
       "      <th>Unit Price</th>\n",
       "      <th>Cost Price</th>\n",
       "      <th>Total Cost Price</th>\n",
       "      <th>Total Price</th>\n",
       "      <th>Order Total</th>\n",
       "      <th>...</th>\n",
       "      <th>Merchant ID</th>\n",
       "      <th>Store Name</th>\n",
       "      <th>Pickup Address</th>\n",
       "      <th>Distance (in km)</th>\n",
       "      <th>Order Time</th>\n",
       "      <th>Pickup Time</th>\n",
       "      <th>Delivery Time</th>\n",
       "      <th>Order Preparation Time</th>\n",
       "      <th>Consumed Loyalty Points</th>\n",
       "      <th>Flat Discount</th>\n",
       "    </tr>\n",
       "  </thead>\n",
       "  <tbody>\n",
       "    <tr>\n",
       "      <th>0</th>\n",
       "      <td>11265015</td>\n",
       "      <td>ORDERED</td>\n",
       "      <td>Cooking Fat &amp; Oil</td>\n",
       "      <td>KKCO0487</td>\n",
       "      <td>1</td>\n",
       "      <td>4400</td>\n",
       "      <td>4250</td>\n",
       "      <td>4250</td>\n",
       "      <td>4400</td>\n",
       "      <td>4350.0</td>\n",
       "      <td>...</td>\n",
       "      <td>893555</td>\n",
       "      <td>Topup Mama</td>\n",
       "      <td>Kilimani, Nairobi, Kenya</td>\n",
       "      <td>10.90</td>\n",
       "      <td>2022-02-17T16:36:27.000Z</td>\n",
       "      <td>2022-02-17T16:37:16.000Z</td>\n",
       "      <td>2022-02-18T08:00:00.000Z</td>\n",
       "      <td>0</td>\n",
       "      <td>77</td>\n",
       "      <td>0</td>\n",
       "    </tr>\n",
       "    <tr>\n",
       "      <th>1</th>\n",
       "      <td>11264651</td>\n",
       "      <td>ORDERED</td>\n",
       "      <td>Cleaning &amp; Hygiene</td>\n",
       "      <td>KKPT280100</td>\n",
       "      <td>1</td>\n",
       "      <td>180</td>\n",
       "      <td>130</td>\n",
       "      <td>130</td>\n",
       "      <td>180</td>\n",
       "      <td>7255.0</td>\n",
       "      <td>...</td>\n",
       "      <td>893555</td>\n",
       "      <td>Topup Mama</td>\n",
       "      <td>Kilimani, Nairobi, Kenya</td>\n",
       "      <td>6.99</td>\n",
       "      <td>2022-02-17T16:19:05.000Z</td>\n",
       "      <td>2022-02-17T16:19:53.000Z</td>\n",
       "      <td>2022-02-18T09:00:00.000Z</td>\n",
       "      <td>0</td>\n",
       "      <td>77</td>\n",
       "      <td>0</td>\n",
       "    </tr>\n",
       "    <tr>\n",
       "      <th>2</th>\n",
       "      <td>11264651</td>\n",
       "      <td>ORDERED</td>\n",
       "      <td>Flour &amp; Sugar</td>\n",
       "      <td>KKFS0702</td>\n",
       "      <td>6</td>\n",
       "      <td>263</td>\n",
       "      <td>247</td>\n",
       "      <td>1482</td>\n",
       "      <td>1578</td>\n",
       "      <td>7255.0</td>\n",
       "      <td>...</td>\n",
       "      <td>893555</td>\n",
       "      <td>Topup Mama</td>\n",
       "      <td>Kilimani, Nairobi, Kenya</td>\n",
       "      <td>6.99</td>\n",
       "      <td>2022-02-17T16:19:05.000Z</td>\n",
       "      <td>2022-02-17T16:19:53.000Z</td>\n",
       "      <td>2022-02-18T09:00:00.000Z</td>\n",
       "      <td>0</td>\n",
       "      <td>77</td>\n",
       "      <td>0</td>\n",
       "    </tr>\n",
       "    <tr>\n",
       "      <th>3</th>\n",
       "      <td>11264651</td>\n",
       "      <td>ORDERED</td>\n",
       "      <td>Salt &amp; Seasoning</td>\n",
       "      <td>KKSS0002</td>\n",
       "      <td>10</td>\n",
       "      <td>65</td>\n",
       "      <td>58</td>\n",
       "      <td>580</td>\n",
       "      <td>650</td>\n",
       "      <td>7255.0</td>\n",
       "      <td>...</td>\n",
       "      <td>893555</td>\n",
       "      <td>Topup Mama</td>\n",
       "      <td>Kilimani, Nairobi, Kenya</td>\n",
       "      <td>6.99</td>\n",
       "      <td>2022-02-17T16:19:05.000Z</td>\n",
       "      <td>2022-02-17T16:19:53.000Z</td>\n",
       "      <td>2022-02-18T09:00:00.000Z</td>\n",
       "      <td>0</td>\n",
       "      <td>77</td>\n",
       "      <td>0</td>\n",
       "    </tr>\n",
       "    <tr>\n",
       "      <th>4</th>\n",
       "      <td>11264651</td>\n",
       "      <td>ORDERED</td>\n",
       "      <td>Beverages</td>\n",
       "      <td>KKBE0105</td>\n",
       "      <td>1</td>\n",
       "      <td>249</td>\n",
       "      <td>208.5</td>\n",
       "      <td>208.5</td>\n",
       "      <td>249</td>\n",
       "      <td>7255.0</td>\n",
       "      <td>...</td>\n",
       "      <td>893555</td>\n",
       "      <td>Topup Mama</td>\n",
       "      <td>Kilimani, Nairobi, Kenya</td>\n",
       "      <td>6.99</td>\n",
       "      <td>2022-02-17T16:19:05.000Z</td>\n",
       "      <td>2022-02-17T16:19:53.000Z</td>\n",
       "      <td>2022-02-18T09:00:00.000Z</td>\n",
       "      <td>0</td>\n",
       "      <td>77</td>\n",
       "      <td>0</td>\n",
       "    </tr>\n",
       "  </tbody>\n",
       "</table>\n",
       "<p>5 rows × 26 columns</p>\n",
       "</div>"
      ],
      "text/plain": [
       "   Order ID Order Status       Category Name         SKU  Quantity  \\\n",
       "0  11265015      ORDERED   Cooking Fat & Oil    KKCO0487         1   \n",
       "1  11264651      ORDERED  Cleaning & Hygiene  KKPT280100         1   \n",
       "2  11264651      ORDERED       Flour & Sugar    KKFS0702         6   \n",
       "3  11264651      ORDERED    Salt & Seasoning    KKSS0002        10   \n",
       "4  11264651      ORDERED           Beverages    KKBE0105         1   \n",
       "\n",
       "   Unit Price Cost Price Total Cost Price  Total Price  Order Total  ...  \\\n",
       "0        4400       4250             4250         4400       4350.0  ...   \n",
       "1         180        130              130          180       7255.0  ...   \n",
       "2         263        247             1482         1578       7255.0  ...   \n",
       "3          65         58              580          650       7255.0  ...   \n",
       "4         249      208.5            208.5          249       7255.0  ...   \n",
       "\n",
       "   Merchant ID  Store Name            Pickup Address  Distance (in km)  \\\n",
       "0       893555  Topup Mama  Kilimani, Nairobi, Kenya             10.90   \n",
       "1       893555  Topup Mama  Kilimani, Nairobi, Kenya              6.99   \n",
       "2       893555  Topup Mama  Kilimani, Nairobi, Kenya              6.99   \n",
       "3       893555  Topup Mama  Kilimani, Nairobi, Kenya              6.99   \n",
       "4       893555  Topup Mama  Kilimani, Nairobi, Kenya              6.99   \n",
       "\n",
       "                 Order Time               Pickup Time  \\\n",
       "0  2022-02-17T16:36:27.000Z  2022-02-17T16:37:16.000Z   \n",
       "1  2022-02-17T16:19:05.000Z  2022-02-17T16:19:53.000Z   \n",
       "2  2022-02-17T16:19:05.000Z  2022-02-17T16:19:53.000Z   \n",
       "3  2022-02-17T16:19:05.000Z  2022-02-17T16:19:53.000Z   \n",
       "4  2022-02-17T16:19:05.000Z  2022-02-17T16:19:53.000Z   \n",
       "\n",
       "              Delivery Time Order Preparation Time Consumed Loyalty Points  \\\n",
       "0  2022-02-18T08:00:00.000Z                      0                      77   \n",
       "1  2022-02-18T09:00:00.000Z                      0                      77   \n",
       "2  2022-02-18T09:00:00.000Z                      0                      77   \n",
       "3  2022-02-18T09:00:00.000Z                      0                      77   \n",
       "4  2022-02-18T09:00:00.000Z                      0                      77   \n",
       "\n",
       "   Flat Discount  \n",
       "0              0  \n",
       "1              0  \n",
       "2              0  \n",
       "3              0  \n",
       "4              0  \n",
       "\n",
       "[5 rows x 26 columns]"
      ]
     },
     "execution_count": 121,
     "metadata": {},
     "output_type": "execute_result"
    }
   ],
   "source": [
    "Orders.head()"
   ]
  },
  {
   "cell_type": "code",
   "execution_count": 122,
   "id": "f69b4856",
   "metadata": {},
   "outputs": [
    {
     "data": {
      "text/plain": [
       "(13671, 26)"
      ]
     },
     "execution_count": 122,
     "metadata": {},
     "output_type": "execute_result"
    }
   ],
   "source": [
    "Orders.shape"
   ]
  },
  {
   "cell_type": "code",
   "execution_count": 123,
   "id": "3ec8b09a",
   "metadata": {},
   "outputs": [
    {
     "data": {
      "text/plain": [
       "Order ID                      0\n",
       "Order Status                  0\n",
       "Category Name                 0\n",
       "SKU                           0\n",
       "Quantity                      0\n",
       "Unit Price                    0\n",
       "Cost Price                    0\n",
       "Total Cost Price              0\n",
       "Total Price                   0\n",
       "Order Total                   0\n",
       "Sub Total                     0\n",
       "Remaining Balance             0\n",
       "Payment Method                0\n",
       "Transaction ID                0\n",
       "Currency Symbol               0\n",
       "Customer ID                   0\n",
       "Merchant ID                   0\n",
       "Store Name                    0\n",
       "Pickup Address             1429\n",
       "Distance (in km)              0\n",
       "Order Time                    0\n",
       "Pickup Time                   0\n",
       "Delivery Time                 0\n",
       "Order Preparation Time        0\n",
       "Consumed Loyalty Points    1429\n",
       "Flat Discount                 0\n",
       "dtype: int64"
      ]
     },
     "execution_count": 123,
     "metadata": {},
     "output_type": "execute_result"
    }
   ],
   "source": [
    "Orders.isnull().sum()"
   ]
  },
  {
   "cell_type": "code",
   "execution_count": 124,
   "id": "963c2dc5",
   "metadata": {},
   "outputs": [],
   "source": [
    "Orders.drop(['Consumed Loyalty Points', 'Pickup Address'],axis=1,inplace=True)"
   ]
  },
  {
   "cell_type": "code",
   "execution_count": 125,
   "id": "390e59cf",
   "metadata": {},
   "outputs": [
    {
     "data": {
      "text/plain": [
       "(13671, 24)"
      ]
     },
     "execution_count": 125,
     "metadata": {},
     "output_type": "execute_result"
    }
   ],
   "source": [
    "Orders.shape"
   ]
  },
  {
   "cell_type": "code",
   "execution_count": null,
   "id": "f4915ab9",
   "metadata": {},
   "outputs": [],
   "source": []
  },
  {
   "cell_type": "markdown",
   "id": "b8c96aba",
   "metadata": {},
   "source": [
    "## CUSTOMERS"
   ]
  },
  {
   "cell_type": "code",
   "execution_count": 127,
   "id": "d35e079c",
   "metadata": {},
   "outputs": [
    {
     "data": {
      "text/plain": [
       "Index(['Customer ID', 'Last Used Platform', 'Is Blocked', 'Created At',\n",
       "       'Language', 'Outstanding Amount', 'Loyalty Points',\n",
       "       'Number of employees'],\n",
       "      dtype='object')"
      ]
     },
     "execution_count": 127,
     "metadata": {},
     "output_type": "execute_result"
    }
   ],
   "source": [
    "kenya_customers.columns"
   ]
  },
  {
   "cell_type": "code",
   "execution_count": 128,
   "id": "a4003ceb",
   "metadata": {},
   "outputs": [
    {
     "data": {
      "text/plain": [
       "Index(['Customer ID', 'Last Used Platform', 'Is Blocked', 'Created At',\n",
       "       'Language', 'Outstanding Amount', 'Loyalty Points',\n",
       "       'Number of Employees'],\n",
       "      dtype='object')"
      ]
     },
     "execution_count": 128,
     "metadata": {},
     "output_type": "execute_result"
    }
   ],
   "source": [
    "nigeria_customers.columns"
   ]
  },
  {
   "cell_type": "code",
   "execution_count": 133,
   "id": "855f216d",
   "metadata": {},
   "outputs": [
    {
     "data": {
      "text/plain": [
       "Customer ID            0\n",
       "Last Used Platform     0\n",
       "Is Blocked             0\n",
       "Created At             0\n",
       "Language               0\n",
       "Outstanding Amount     0\n",
       "Loyalty Points         0\n",
       "Number of Employees    0\n",
       "dtype: int64"
      ]
     },
     "execution_count": 133,
     "metadata": {},
     "output_type": "execute_result"
    }
   ],
   "source": [
    "nigeria_customers.isnull().sum()"
   ]
  },
  {
   "cell_type": "code",
   "execution_count": 135,
   "id": "ba3ccd89",
   "metadata": {},
   "outputs": [],
   "source": [
    "kenya_customers.rename(columns={'Number of employees':'Number of Employees'}, inplace=True)"
   ]
  },
  {
   "cell_type": "code",
   "execution_count": 136,
   "id": "ae36be40",
   "metadata": {},
   "outputs": [],
   "source": [
    "customers = pd.concat([kenya_customers, nigeria_customers], axis=0)"
   ]
  },
  {
   "cell_type": "code",
   "execution_count": 137,
   "id": "619bef2c",
   "metadata": {},
   "outputs": [
    {
     "data": {
      "text/plain": [
       "(5272, 8)"
      ]
     },
     "execution_count": 137,
     "metadata": {},
     "output_type": "execute_result"
    }
   ],
   "source": [
    "customers.shape"
   ]
  },
  {
   "cell_type": "code",
   "execution_count": 138,
   "id": "30a558d0",
   "metadata": {},
   "outputs": [
    {
     "data": {
      "text/html": [
       "<div>\n",
       "<style scoped>\n",
       "    .dataframe tbody tr th:only-of-type {\n",
       "        vertical-align: middle;\n",
       "    }\n",
       "\n",
       "    .dataframe tbody tr th {\n",
       "        vertical-align: top;\n",
       "    }\n",
       "\n",
       "    .dataframe thead th {\n",
       "        text-align: right;\n",
       "    }\n",
       "</style>\n",
       "<table border=\"1\" class=\"dataframe\">\n",
       "  <thead>\n",
       "    <tr style=\"text-align: right;\">\n",
       "      <th></th>\n",
       "      <th>Customer ID</th>\n",
       "      <th>Last Used Platform</th>\n",
       "      <th>Is Blocked</th>\n",
       "      <th>Created At</th>\n",
       "      <th>Language</th>\n",
       "      <th>Outstanding Amount</th>\n",
       "      <th>Loyalty Points</th>\n",
       "      <th>Number of Employees</th>\n",
       "    </tr>\n",
       "  </thead>\n",
       "  <tbody>\n",
       "    <tr>\n",
       "      <th>0</th>\n",
       "      <td>3144837</td>\n",
       "      <td>WEB</td>\n",
       "      <td>0</td>\n",
       "      <td>2021-03-15T17:13:19.000Z</td>\n",
       "      <td>en</td>\n",
       "      <td>0</td>\n",
       "      <td>0</td>\n",
       "      <td>5.0</td>\n",
       "    </tr>\n",
       "    <tr>\n",
       "      <th>1</th>\n",
       "      <td>3174590</td>\n",
       "      <td>WEB</td>\n",
       "      <td>0</td>\n",
       "      <td>2021-03-20T14:15:11.000Z</td>\n",
       "      <td>en</td>\n",
       "      <td>0</td>\n",
       "      <td>0</td>\n",
       "      <td>5.0</td>\n",
       "    </tr>\n",
       "    <tr>\n",
       "      <th>2</th>\n",
       "      <td>3181998</td>\n",
       "      <td>WEB</td>\n",
       "      <td>0</td>\n",
       "      <td>2021-03-21T15:36:51.000Z</td>\n",
       "      <td>en</td>\n",
       "      <td>0</td>\n",
       "      <td>0</td>\n",
       "      <td>5.0</td>\n",
       "    </tr>\n",
       "    <tr>\n",
       "      <th>3</th>\n",
       "      <td>3191244</td>\n",
       "      <td>WEB</td>\n",
       "      <td>0</td>\n",
       "      <td>2021-03-23T08:54:00.000Z</td>\n",
       "      <td>en</td>\n",
       "      <td>0</td>\n",
       "      <td>367</td>\n",
       "      <td>5.0</td>\n",
       "    </tr>\n",
       "    <tr>\n",
       "      <th>4</th>\n",
       "      <td>3274222</td>\n",
       "      <td>WEB</td>\n",
       "      <td>0</td>\n",
       "      <td>2021-04-06T13:52:39.000Z</td>\n",
       "      <td>en</td>\n",
       "      <td>0</td>\n",
       "      <td>0</td>\n",
       "      <td>5.0</td>\n",
       "    </tr>\n",
       "  </tbody>\n",
       "</table>\n",
       "</div>"
      ],
      "text/plain": [
       "   Customer ID Last Used Platform  Is Blocked                Created At  \\\n",
       "0      3144837                WEB           0  2021-03-15T17:13:19.000Z   \n",
       "1      3174590                WEB           0  2021-03-20T14:15:11.000Z   \n",
       "2      3181998                WEB           0  2021-03-21T15:36:51.000Z   \n",
       "3      3191244                WEB           0  2021-03-23T08:54:00.000Z   \n",
       "4      3274222                WEB           0  2021-04-06T13:52:39.000Z   \n",
       "\n",
       "  Language  Outstanding Amount  Loyalty Points  Number of Employees  \n",
       "0       en                   0               0                  5.0  \n",
       "1       en                   0               0                  5.0  \n",
       "2       en                   0               0                  5.0  \n",
       "3       en                   0             367                  5.0  \n",
       "4       en                   0               0                  5.0  "
      ]
     },
     "execution_count": 138,
     "metadata": {},
     "output_type": "execute_result"
    }
   ],
   "source": [
    "customers.head()"
   ]
  },
  {
   "cell_type": "code",
   "execution_count": 139,
   "id": "82793582",
   "metadata": {},
   "outputs": [
    {
     "data": {
      "text/plain": [
       "Customer ID            0\n",
       "Last Used Platform     0\n",
       "Is Blocked             0\n",
       "Created At             0\n",
       "Language               0\n",
       "Outstanding Amount     0\n",
       "Loyalty Points         0\n",
       "Number of Employees    0\n",
       "dtype: int64"
      ]
     },
     "execution_count": 139,
     "metadata": {},
     "output_type": "execute_result"
    }
   ],
   "source": [
    "customers.isnull().sum()"
   ]
  },
  {
   "cell_type": "code",
   "execution_count": null,
   "id": "815e060c",
   "metadata": {},
   "outputs": [],
   "source": []
  },
  {
   "cell_type": "markdown",
   "id": "99b46f83",
   "metadata": {},
   "source": [
    "## DELIVERIES"
   ]
  },
  {
   "cell_type": "code",
   "execution_count": 140,
   "id": "a4c773ec",
   "metadata": {},
   "outputs": [
    {
     "data": {
      "text/plain": [
       "Index(['Task_ID', 'Order_ID', 'Relationship', 'Team_Name', 'Task_Type',\n",
       "       'Agent_ID', 'Agent_Name', 'Distance(m)', 'Total_Time_Taken(min)',\n",
       "       'Pick_up_From', 'Start_Before', 'Complete_Before', 'Completion_Time',\n",
       "       'Task_Status', 'Rating', 'Latitude', 'Longitude', 'Custom_Template_ID',\n",
       "       'Task_Details_QTY', 'Task_Details_AMOUNT'],\n",
       "      dtype='object')"
      ]
     },
     "execution_count": 140,
     "metadata": {},
     "output_type": "execute_result"
    }
   ],
   "source": [
    "kenya_deliveries.columns"
   ]
  },
  {
   "cell_type": "code",
   "execution_count": 141,
   "id": "7e76191a",
   "metadata": {},
   "outputs": [
    {
     "data": {
      "text/plain": [
       "Index(['Task_ID', 'Order_ID', 'Relationship', 'Team_Name', 'Task_Type',\n",
       "       'Agent_ID', 'Total_Time_Taken(min)', 'Pick_up_From', 'Start_Before',\n",
       "       'Complete_Before', 'Completion_Time', 'Task_Status', 'Rating',\n",
       "       'Latitude', 'Longitude', 'Custom_Template_ID', 'Task_Details_QTY',\n",
       "       'Task_Details_AMOUNT'],\n",
       "      dtype='object')"
      ]
     },
     "execution_count": 141,
     "metadata": {},
     "output_type": "execute_result"
    }
   ],
   "source": [
    "nigeria_deliveries.columns"
   ]
  },
  {
   "cell_type": "code",
   "execution_count": 142,
   "id": "97f269a3",
   "metadata": {},
   "outputs": [],
   "source": [
    "deliveries = pd.concat([kenya_deliveries, nigeria_deliveries], axis=0)"
   ]
  },
  {
   "cell_type": "code",
   "execution_count": 143,
   "id": "e11213f5",
   "metadata": {},
   "outputs": [
    {
     "data": {
      "text/plain": [
       "(53002, 20)"
      ]
     },
     "execution_count": 143,
     "metadata": {},
     "output_type": "execute_result"
    }
   ],
   "source": [
    "deliveries.shape"
   ]
  },
  {
   "cell_type": "code",
   "execution_count": 144,
   "id": "91bac39a",
   "metadata": {},
   "outputs": [
    {
     "data": {
      "text/plain": [
       "Task_ID                     0\n",
       "Order_ID                    0\n",
       "Relationship                0\n",
       "Team_Name                   0\n",
       "Task_Type                   0\n",
       "Agent_ID                    0\n",
       "Agent_Name               8019\n",
       "Distance(m)              8019\n",
       "Total_Time_Taken(min)       0\n",
       "Pick_up_From                0\n",
       "Start_Before                0\n",
       "Complete_Before             0\n",
       "Completion_Time             0\n",
       "Task_Status                 0\n",
       "Rating                      0\n",
       "Latitude                    0\n",
       "Longitude                   0\n",
       "Custom_Template_ID          0\n",
       "Task_Details_QTY            0\n",
       "Task_Details_AMOUNT         0\n",
       "dtype: int64"
      ]
     },
     "execution_count": 144,
     "metadata": {},
     "output_type": "execute_result"
    }
   ],
   "source": [
    "deliveries.isnull().sum()"
   ]
  },
  {
   "cell_type": "code",
   "execution_count": 145,
   "id": "929a556b",
   "metadata": {},
   "outputs": [],
   "source": [
    "deliveries.drop(['Agent_Name', 'Distance(m)'],axis=1,inplace=True)"
   ]
  },
  {
   "cell_type": "code",
   "execution_count": 148,
   "id": "28eec2a6",
   "metadata": {},
   "outputs": [
    {
     "data": {
      "text/html": [
       "<div>\n",
       "<style scoped>\n",
       "    .dataframe tbody tr th:only-of-type {\n",
       "        vertical-align: middle;\n",
       "    }\n",
       "\n",
       "    .dataframe tbody tr th {\n",
       "        vertical-align: top;\n",
       "    }\n",
       "\n",
       "    .dataframe thead th {\n",
       "        text-align: right;\n",
       "    }\n",
       "</style>\n",
       "<table border=\"1\" class=\"dataframe\">\n",
       "  <thead>\n",
       "    <tr style=\"text-align: right;\">\n",
       "      <th></th>\n",
       "      <th>Task_ID</th>\n",
       "      <th>Order_ID</th>\n",
       "      <th>Relationship</th>\n",
       "      <th>Team_Name</th>\n",
       "      <th>Task_Type</th>\n",
       "      <th>Agent_ID</th>\n",
       "      <th>Total_Time_Taken(min)</th>\n",
       "      <th>Pick_up_From</th>\n",
       "      <th>Start_Before</th>\n",
       "      <th>Complete_Before</th>\n",
       "      <th>Completion_Time</th>\n",
       "      <th>Task_Status</th>\n",
       "      <th>Rating</th>\n",
       "      <th>Latitude</th>\n",
       "      <th>Longitude</th>\n",
       "      <th>Custom_Template_ID</th>\n",
       "      <th>Task_Details_QTY</th>\n",
       "      <th>Task_Details_AMOUNT</th>\n",
       "    </tr>\n",
       "  </thead>\n",
       "  <tbody>\n",
       "    <tr>\n",
       "      <th>0</th>\n",
       "      <td>368110390</td>\n",
       "      <td>YR-11265216,0</td>\n",
       "      <td>3.681104e+29</td>\n",
       "      <td>Default Team</td>\n",
       "      <td>Delivery</td>\n",
       "      <td>1285774</td>\n",
       "      <td>10.43</td>\n",
       "      <td>Topup Mama</td>\n",
       "      <td>17 Feb 2022 04:48:44 pm</td>\n",
       "      <td>18 Feb 2022 11:00:00 am</td>\n",
       "      <td>17 Feb 2022 12:16:46 pm</td>\n",
       "      <td>Unassigned</td>\n",
       "      <td>0</td>\n",
       "      <td>-1.2664883</td>\n",
       "      <td>36.834632</td>\n",
       "      <td>Order_Details</td>\n",
       "      <td>1</td>\n",
       "      <td>KSh 4400.00</td>\n",
       "    </tr>\n",
       "    <tr>\n",
       "      <th>1</th>\n",
       "      <td>368110390</td>\n",
       "      <td>YR-11265216,0</td>\n",
       "      <td>3.681104e+29</td>\n",
       "      <td>Default Team</td>\n",
       "      <td>Delivery</td>\n",
       "      <td>1285774</td>\n",
       "      <td>10.43</td>\n",
       "      <td>Topup Mama</td>\n",
       "      <td>17 Feb 2022 04:48:44 pm</td>\n",
       "      <td>18 Feb 2022 11:00:00 am</td>\n",
       "      <td>17 Feb 2022 12:16:46 pm</td>\n",
       "      <td>Unassigned</td>\n",
       "      <td>0</td>\n",
       "      <td>-1.2664883</td>\n",
       "      <td>36.834632</td>\n",
       "      <td>Order_Details</td>\n",
       "      <td>12</td>\n",
       "      <td>KSh 300.00</td>\n",
       "    </tr>\n",
       "    <tr>\n",
       "      <th>2</th>\n",
       "      <td>368109621</td>\n",
       "      <td>YR-11265175,0</td>\n",
       "      <td>3.681096e+29</td>\n",
       "      <td>Default Team</td>\n",
       "      <td>Delivery</td>\n",
       "      <td>1285774</td>\n",
       "      <td>10.43</td>\n",
       "      <td>Topup Mama</td>\n",
       "      <td>17 Feb 2022 04:46:43 pm</td>\n",
       "      <td>18 Feb 2022 08:00:00 am</td>\n",
       "      <td>17 Feb 2022 12:16:46 pm</td>\n",
       "      <td>Unassigned</td>\n",
       "      <td>0</td>\n",
       "      <td>-1.25</td>\n",
       "      <td>36.883330</td>\n",
       "      <td>Order_Details</td>\n",
       "      <td>10</td>\n",
       "      <td>KSh 19900.00</td>\n",
       "    </tr>\n",
       "    <tr>\n",
       "      <th>3</th>\n",
       "      <td>368105817</td>\n",
       "      <td>YR-11265015,0</td>\n",
       "      <td>3.681058e+29</td>\n",
       "      <td>Default Team</td>\n",
       "      <td>Delivery</td>\n",
       "      <td>1285774</td>\n",
       "      <td>10.43</td>\n",
       "      <td>Topup Mama</td>\n",
       "      <td>17 Feb 2022 04:37:16 pm</td>\n",
       "      <td>18 Feb 2022 08:00:00 am</td>\n",
       "      <td>17 Feb 2022 12:16:46 pm</td>\n",
       "      <td>Unassigned</td>\n",
       "      <td>0</td>\n",
       "      <td>-1.28354</td>\n",
       "      <td>36.887286</td>\n",
       "      <td>Order_Details</td>\n",
       "      <td>1</td>\n",
       "      <td>KSh 4400.00</td>\n",
       "    </tr>\n",
       "    <tr>\n",
       "      <th>4</th>\n",
       "      <td>368098308</td>\n",
       "      <td>YR-11264651,0</td>\n",
       "      <td>3.680983e+29</td>\n",
       "      <td>Default Team</td>\n",
       "      <td>Delivery</td>\n",
       "      <td>1285774</td>\n",
       "      <td>10.43</td>\n",
       "      <td>Topup Mama</td>\n",
       "      <td>17 Feb 2022 04:19:53 pm</td>\n",
       "      <td>18 Feb 2022 09:00:00 am</td>\n",
       "      <td>17 Feb 2022 12:16:46 pm</td>\n",
       "      <td>Unassigned</td>\n",
       "      <td>0</td>\n",
       "      <td>-1.282722</td>\n",
       "      <td>36.743347</td>\n",
       "      <td>Order_Details</td>\n",
       "      <td>1</td>\n",
       "      <td>KSh 180.00</td>\n",
       "    </tr>\n",
       "  </tbody>\n",
       "</table>\n",
       "</div>"
      ],
      "text/plain": [
       "     Task_ID       Order_ID  Relationship     Team_Name Task_Type Agent_ID  \\\n",
       "0  368110390  YR-11265216,0  3.681104e+29  Default Team  Delivery  1285774   \n",
       "1  368110390  YR-11265216,0  3.681104e+29  Default Team  Delivery  1285774   \n",
       "2  368109621  YR-11265175,0  3.681096e+29  Default Team  Delivery  1285774   \n",
       "3  368105817  YR-11265015,0  3.681058e+29  Default Team  Delivery  1285774   \n",
       "4  368098308  YR-11264651,0  3.680983e+29  Default Team  Delivery  1285774   \n",
       "\n",
       "  Total_Time_Taken(min) Pick_up_From             Start_Before  \\\n",
       "0                 10.43   Topup Mama  17 Feb 2022 04:48:44 pm   \n",
       "1                 10.43   Topup Mama  17 Feb 2022 04:48:44 pm   \n",
       "2                 10.43   Topup Mama  17 Feb 2022 04:46:43 pm   \n",
       "3                 10.43   Topup Mama  17 Feb 2022 04:37:16 pm   \n",
       "4                 10.43   Topup Mama  17 Feb 2022 04:19:53 pm   \n",
       "\n",
       "           Complete_Before          Completion_Time Task_Status Rating  \\\n",
       "0  18 Feb 2022 11:00:00 am  17 Feb 2022 12:16:46 pm  Unassigned      0   \n",
       "1  18 Feb 2022 11:00:00 am  17 Feb 2022 12:16:46 pm  Unassigned      0   \n",
       "2  18 Feb 2022 08:00:00 am  17 Feb 2022 12:16:46 pm  Unassigned      0   \n",
       "3  18 Feb 2022 08:00:00 am  17 Feb 2022 12:16:46 pm  Unassigned      0   \n",
       "4  18 Feb 2022 09:00:00 am  17 Feb 2022 12:16:46 pm  Unassigned      0   \n",
       "\n",
       "     Latitude  Longitude Custom_Template_ID Task_Details_QTY  \\\n",
       "0  -1.2664883  36.834632      Order_Details                1   \n",
       "1  -1.2664883  36.834632      Order_Details               12   \n",
       "2       -1.25  36.883330      Order_Details               10   \n",
       "3    -1.28354  36.887286      Order_Details                1   \n",
       "4   -1.282722  36.743347      Order_Details                1   \n",
       "\n",
       "  Task_Details_AMOUNT  \n",
       "0         KSh 4400.00  \n",
       "1          KSh 300.00  \n",
       "2        KSh 19900.00  \n",
       "3         KSh 4400.00  \n",
       "4          KSh 180.00  "
      ]
     },
     "execution_count": 148,
     "metadata": {},
     "output_type": "execute_result"
    }
   ],
   "source": [
    "deliveries.head()"
   ]
  },
  {
   "cell_type": "code",
   "execution_count": 149,
   "id": "b53b3da4",
   "metadata": {},
   "outputs": [
    {
     "data": {
      "text/plain": [
       "(13671, 24)"
      ]
     },
     "execution_count": 149,
     "metadata": {},
     "output_type": "execute_result"
    }
   ],
   "source": [
    "Orders.shape"
   ]
  },
  {
   "cell_type": "code",
   "execution_count": 150,
   "id": "7943ef02",
   "metadata": {},
   "outputs": [
    {
     "data": {
      "text/plain": [
       "(5272, 8)"
      ]
     },
     "execution_count": 150,
     "metadata": {},
     "output_type": "execute_result"
    }
   ],
   "source": [
    "customers.shape"
   ]
  },
  {
   "cell_type": "code",
   "execution_count": 151,
   "id": "7b8200e2",
   "metadata": {},
   "outputs": [
    {
     "data": {
      "text/plain": [
       "(53002, 18)"
      ]
     },
     "execution_count": 151,
     "metadata": {},
     "output_type": "execute_result"
    }
   ],
   "source": [
    "deliveries.shape"
   ]
  },
  {
   "cell_type": "code",
   "execution_count": null,
   "id": "47a808e4",
   "metadata": {},
   "outputs": [],
   "source": []
  },
  {
   "cell_type": "markdown",
   "id": "1e1ab0e0",
   "metadata": {},
   "source": [
    "## Customer Data Analysis"
   ]
  },
  {
   "cell_type": "code",
   "execution_count": 154,
   "id": "d41a75cb",
   "metadata": {},
   "outputs": [
    {
     "data": {
      "text/plain": [
       "Index(['Customer ID', 'Last Used Platform', 'Is Blocked', 'Created At',\n",
       "       'Language', 'Outstanding Amount', 'Loyalty Points',\n",
       "       'Number of Employees'],\n",
       "      dtype='object')"
      ]
     },
     "execution_count": 154,
     "metadata": {},
     "output_type": "execute_result"
    }
   ],
   "source": [
    "customers.columns"
   ]
  },
  {
   "cell_type": "code",
   "execution_count": 155,
   "id": "cc48bc3f",
   "metadata": {},
   "outputs": [
    {
     "data": {
      "text/plain": [
       "524"
      ]
     },
     "execution_count": 155,
     "metadata": {},
     "output_type": "execute_result"
    }
   ],
   "source": [
    "customers['Loyalty Points'].nunique()"
   ]
  },
  {
   "cell_type": "code",
   "execution_count": 156,
   "id": "0b0ced1d",
   "metadata": {},
   "outputs": [
    {
     "data": {
      "text/html": [
       "<div>\n",
       "<style scoped>\n",
       "    .dataframe tbody tr th:only-of-type {\n",
       "        vertical-align: middle;\n",
       "    }\n",
       "\n",
       "    .dataframe tbody tr th {\n",
       "        vertical-align: top;\n",
       "    }\n",
       "\n",
       "    .dataframe thead th {\n",
       "        text-align: right;\n",
       "    }\n",
       "</style>\n",
       "<table border=\"1\" class=\"dataframe\">\n",
       "  <thead>\n",
       "    <tr style=\"text-align: right;\">\n",
       "      <th></th>\n",
       "      <th>Customer ID</th>\n",
       "      <th>Is Blocked</th>\n",
       "      <th>Outstanding Amount</th>\n",
       "      <th>Loyalty Points</th>\n",
       "      <th>Number of Employees</th>\n",
       "    </tr>\n",
       "  </thead>\n",
       "  <tbody>\n",
       "    <tr>\n",
       "      <th>count</th>\n",
       "      <td>5.272000e+03</td>\n",
       "      <td>5272.000000</td>\n",
       "      <td>5272.0</td>\n",
       "      <td>5272.000000</td>\n",
       "      <td>5.272000e+03</td>\n",
       "    </tr>\n",
       "    <tr>\n",
       "      <th>mean</th>\n",
       "      <td>4.181560e+06</td>\n",
       "      <td>0.018399</td>\n",
       "      <td>0.0</td>\n",
       "      <td>110.023141</td>\n",
       "      <td>1.325926e+08</td>\n",
       "    </tr>\n",
       "    <tr>\n",
       "      <th>std</th>\n",
       "      <td>3.213388e+05</td>\n",
       "      <td>0.134402</td>\n",
       "      <td>0.0</td>\n",
       "      <td>597.896925</td>\n",
       "      <td>1.019091e+09</td>\n",
       "    </tr>\n",
       "    <tr>\n",
       "      <th>min</th>\n",
       "      <td>3.144837e+06</td>\n",
       "      <td>0.000000</td>\n",
       "      <td>0.0</td>\n",
       "      <td>0.000000</td>\n",
       "      <td>-2.000000e+00</td>\n",
       "    </tr>\n",
       "    <tr>\n",
       "      <th>25%</th>\n",
       "      <td>4.006893e+06</td>\n",
       "      <td>0.000000</td>\n",
       "      <td>0.0</td>\n",
       "      <td>0.000000</td>\n",
       "      <td>2.000000e+00</td>\n",
       "    </tr>\n",
       "    <tr>\n",
       "      <th>50%</th>\n",
       "      <td>4.112764e+06</td>\n",
       "      <td>0.000000</td>\n",
       "      <td>0.0</td>\n",
       "      <td>3.000000</td>\n",
       "      <td>3.000000e+00</td>\n",
       "    </tr>\n",
       "    <tr>\n",
       "      <th>75%</th>\n",
       "      <td>4.467100e+06</td>\n",
       "      <td>0.000000</td>\n",
       "      <td>0.0</td>\n",
       "      <td>43.000000</td>\n",
       "      <td>4.000000e+00</td>\n",
       "    </tr>\n",
       "    <tr>\n",
       "      <th>max</th>\n",
       "      <td>5.189011e+06</td>\n",
       "      <td>1.000000</td>\n",
       "      <td>0.0</td>\n",
       "      <td>23307.000000</td>\n",
       "      <td>9.159746e+09</td>\n",
       "    </tr>\n",
       "  </tbody>\n",
       "</table>\n",
       "</div>"
      ],
      "text/plain": [
       "        Customer ID   Is Blocked  Outstanding Amount  Loyalty Points  \\\n",
       "count  5.272000e+03  5272.000000              5272.0     5272.000000   \n",
       "mean   4.181560e+06     0.018399                 0.0      110.023141   \n",
       "std    3.213388e+05     0.134402                 0.0      597.896925   \n",
       "min    3.144837e+06     0.000000                 0.0        0.000000   \n",
       "25%    4.006893e+06     0.000000                 0.0        0.000000   \n",
       "50%    4.112764e+06     0.000000                 0.0        3.000000   \n",
       "75%    4.467100e+06     0.000000                 0.0       43.000000   \n",
       "max    5.189011e+06     1.000000                 0.0    23307.000000   \n",
       "\n",
       "       Number of Employees  \n",
       "count         5.272000e+03  \n",
       "mean          1.325926e+08  \n",
       "std           1.019091e+09  \n",
       "min          -2.000000e+00  \n",
       "25%           2.000000e+00  \n",
       "50%           3.000000e+00  \n",
       "75%           4.000000e+00  \n",
       "max           9.159746e+09  "
      ]
     },
     "execution_count": 156,
     "metadata": {},
     "output_type": "execute_result"
    }
   ],
   "source": [
    "customers.describe()"
   ]
  },
  {
   "cell_type": "code",
   "execution_count": 157,
   "id": "73ef1589",
   "metadata": {},
   "outputs": [
    {
     "name": "stdout",
     "output_type": "stream",
     "text": [
      "<class 'pandas.core.frame.DataFrame'>\n",
      "Int64Index: 5272 entries, 0 to 1094\n",
      "Data columns (total 8 columns):\n",
      " #   Column               Non-Null Count  Dtype  \n",
      "---  ------               --------------  -----  \n",
      " 0   Customer ID          5272 non-null   int64  \n",
      " 1   Last Used Platform   5272 non-null   object \n",
      " 2   Is Blocked           5272 non-null   int64  \n",
      " 3   Created At           5272 non-null   object \n",
      " 4   Language             5272 non-null   object \n",
      " 5   Outstanding Amount   5272 non-null   int64  \n",
      " 6   Loyalty Points       5272 non-null   int64  \n",
      " 7   Number of Employees  5272 non-null   float64\n",
      "dtypes: float64(1), int64(4), object(3)\n",
      "memory usage: 370.7+ KB\n"
     ]
    }
   ],
   "source": [
    "customers.info()"
   ]
  },
  {
   "cell_type": "code",
   "execution_count": 158,
   "id": "25a28d31",
   "metadata": {},
   "outputs": [
    {
     "data": {
      "text/plain": [
       "1"
      ]
     },
     "execution_count": 158,
     "metadata": {},
     "output_type": "execute_result"
    }
   ],
   "source": [
    "customers['Last Used Platform'].nunique()"
   ]
  },
  {
   "cell_type": "code",
   "execution_count": 194,
   "id": "683978c9",
   "metadata": {},
   "outputs": [
    {
     "data": {
      "text/plain": [
       "1"
      ]
     },
     "execution_count": 194,
     "metadata": {},
     "output_type": "execute_result"
    }
   ],
   "source": [
    "customers['Language'].nunique()"
   ]
  },
  {
   "cell_type": "code",
   "execution_count": 161,
   "id": "7bcada65",
   "metadata": {},
   "outputs": [],
   "source": [
    "#The Last platform has only one unique value\n",
    "customers.drop(['Last Used Platform'] , axis=1, inplace=True)"
   ]
  },
  {
   "cell_type": "code",
   "execution_count": 195,
   "id": "210c65df",
   "metadata": {},
   "outputs": [],
   "source": [
    "#Drop the language column too\n",
    "customers.drop(['Language'] , axis=1, inplace=True)"
   ]
  },
  {
   "cell_type": "code",
   "execution_count": 196,
   "id": "5e064637",
   "metadata": {},
   "outputs": [
    {
     "data": {
      "text/plain": [
       "Index(['Customer ID', 'Is Blocked', 'Created At', 'Outstanding Amount',\n",
       "       'Loyalty Points', 'Number of Employees', 'Returning customer'],\n",
       "      dtype='object')"
      ]
     },
     "execution_count": 196,
     "metadata": {},
     "output_type": "execute_result"
    }
   ],
   "source": [
    "customers.columns"
   ]
  },
  {
   "cell_type": "code",
   "execution_count": 163,
   "id": "65adc153",
   "metadata": {},
   "outputs": [
    {
     "data": {
      "text/plain": [
       "2"
      ]
     },
     "execution_count": 163,
     "metadata": {},
     "output_type": "execute_result"
    }
   ],
   "source": [
    "customers['Is Blocked'].nunique()"
   ]
  },
  {
   "cell_type": "code",
   "execution_count": 170,
   "id": "a026c842",
   "metadata": {},
   "outputs": [
    {
     "data": {
      "text/plain": [
       "5271"
      ]
     },
     "execution_count": 170,
     "metadata": {},
     "output_type": "execute_result"
    }
   ],
   "source": [
    "customers['Created At'].nunique()"
   ]
  },
  {
   "cell_type": "code",
   "execution_count": 169,
   "id": "fc577be6",
   "metadata": {},
   "outputs": [
    {
     "data": {
      "text/plain": [
       "114"
      ]
     },
     "execution_count": 169,
     "metadata": {},
     "output_type": "execute_result"
    }
   ],
   "source": [
    "customers['Number of Employees'].nunique()"
   ]
  },
  {
   "cell_type": "code",
   "execution_count": 197,
   "id": "007fd583",
   "metadata": {},
   "outputs": [
    {
     "data": {
      "text/html": [
       "<div>\n",
       "<style scoped>\n",
       "    .dataframe tbody tr th:only-of-type {\n",
       "        vertical-align: middle;\n",
       "    }\n",
       "\n",
       "    .dataframe tbody tr th {\n",
       "        vertical-align: top;\n",
       "    }\n",
       "\n",
       "    .dataframe thead th {\n",
       "        text-align: right;\n",
       "    }\n",
       "</style>\n",
       "<table border=\"1\" class=\"dataframe\">\n",
       "  <thead>\n",
       "    <tr style=\"text-align: right;\">\n",
       "      <th></th>\n",
       "      <th>Customer ID</th>\n",
       "      <th>Is Blocked</th>\n",
       "      <th>Created At</th>\n",
       "      <th>Outstanding Amount</th>\n",
       "      <th>Loyalty Points</th>\n",
       "      <th>Number of Employees</th>\n",
       "      <th>Returning customer</th>\n",
       "    </tr>\n",
       "  </thead>\n",
       "  <tbody>\n",
       "    <tr>\n",
       "      <th>0</th>\n",
       "      <td>3144837</td>\n",
       "      <td>0</td>\n",
       "      <td>2021-03-15 17:13:19+00:00</td>\n",
       "      <td>0</td>\n",
       "      <td>0</td>\n",
       "      <td>5.0</td>\n",
       "      <td>No</td>\n",
       "    </tr>\n",
       "    <tr>\n",
       "      <th>1</th>\n",
       "      <td>3174590</td>\n",
       "      <td>0</td>\n",
       "      <td>2021-03-20 14:15:11+00:00</td>\n",
       "      <td>0</td>\n",
       "      <td>0</td>\n",
       "      <td>5.0</td>\n",
       "      <td>No</td>\n",
       "    </tr>\n",
       "    <tr>\n",
       "      <th>2</th>\n",
       "      <td>3181998</td>\n",
       "      <td>0</td>\n",
       "      <td>2021-03-21 15:36:51+00:00</td>\n",
       "      <td>0</td>\n",
       "      <td>0</td>\n",
       "      <td>5.0</td>\n",
       "      <td>No</td>\n",
       "    </tr>\n",
       "    <tr>\n",
       "      <th>3</th>\n",
       "      <td>3191244</td>\n",
       "      <td>0</td>\n",
       "      <td>2021-03-23 08:54:00+00:00</td>\n",
       "      <td>0</td>\n",
       "      <td>367</td>\n",
       "      <td>5.0</td>\n",
       "      <td>Yes</td>\n",
       "    </tr>\n",
       "    <tr>\n",
       "      <th>4</th>\n",
       "      <td>3274222</td>\n",
       "      <td>0</td>\n",
       "      <td>2021-04-06 13:52:39+00:00</td>\n",
       "      <td>0</td>\n",
       "      <td>0</td>\n",
       "      <td>5.0</td>\n",
       "      <td>No</td>\n",
       "    </tr>\n",
       "  </tbody>\n",
       "</table>\n",
       "</div>"
      ],
      "text/plain": [
       "   Customer ID  Is Blocked                Created At  Outstanding Amount  \\\n",
       "0      3144837           0 2021-03-15 17:13:19+00:00                   0   \n",
       "1      3174590           0 2021-03-20 14:15:11+00:00                   0   \n",
       "2      3181998           0 2021-03-21 15:36:51+00:00                   0   \n",
       "3      3191244           0 2021-03-23 08:54:00+00:00                   0   \n",
       "4      3274222           0 2021-04-06 13:52:39+00:00                   0   \n",
       "\n",
       "   Loyalty Points  Number of Employees Returning customer  \n",
       "0               0                  5.0                 No  \n",
       "1               0                  5.0                 No  \n",
       "2               0                  5.0                 No  \n",
       "3             367                  5.0                Yes  \n",
       "4               0                  5.0                 No  "
      ]
     },
     "execution_count": 197,
     "metadata": {},
     "output_type": "execute_result"
    }
   ],
   "source": [
    "customers.head()"
   ]
  },
  {
   "cell_type": "code",
   "execution_count": 177,
   "id": "8e0797ca",
   "metadata": {},
   "outputs": [],
   "source": [
    "#Creating a new column based on loyalty points.\n",
    "customers['Returning customer'] = np.where(customers['Loyalty Points'] > 0, 'Yes', 'No')"
   ]
  },
  {
   "cell_type": "code",
   "execution_count": 198,
   "id": "e5169eea",
   "metadata": {},
   "outputs": [
    {
     "data": {
      "text/html": [
       "<div>\n",
       "<style scoped>\n",
       "    .dataframe tbody tr th:only-of-type {\n",
       "        vertical-align: middle;\n",
       "    }\n",
       "\n",
       "    .dataframe tbody tr th {\n",
       "        vertical-align: top;\n",
       "    }\n",
       "\n",
       "    .dataframe thead th {\n",
       "        text-align: right;\n",
       "    }\n",
       "</style>\n",
       "<table border=\"1\" class=\"dataframe\">\n",
       "  <thead>\n",
       "    <tr style=\"text-align: right;\">\n",
       "      <th></th>\n",
       "      <th>Customer ID</th>\n",
       "      <th>Is Blocked</th>\n",
       "      <th>Created At</th>\n",
       "      <th>Outstanding Amount</th>\n",
       "      <th>Loyalty Points</th>\n",
       "      <th>Number of Employees</th>\n",
       "      <th>Returning customer</th>\n",
       "    </tr>\n",
       "  </thead>\n",
       "  <tbody>\n",
       "    <tr>\n",
       "      <th>0</th>\n",
       "      <td>3144837</td>\n",
       "      <td>0</td>\n",
       "      <td>2021-03-15 17:13:19+00:00</td>\n",
       "      <td>0</td>\n",
       "      <td>0</td>\n",
       "      <td>5.0</td>\n",
       "      <td>No</td>\n",
       "    </tr>\n",
       "    <tr>\n",
       "      <th>1</th>\n",
       "      <td>3174590</td>\n",
       "      <td>0</td>\n",
       "      <td>2021-03-20 14:15:11+00:00</td>\n",
       "      <td>0</td>\n",
       "      <td>0</td>\n",
       "      <td>5.0</td>\n",
       "      <td>No</td>\n",
       "    </tr>\n",
       "    <tr>\n",
       "      <th>2</th>\n",
       "      <td>3181998</td>\n",
       "      <td>0</td>\n",
       "      <td>2021-03-21 15:36:51+00:00</td>\n",
       "      <td>0</td>\n",
       "      <td>0</td>\n",
       "      <td>5.0</td>\n",
       "      <td>No</td>\n",
       "    </tr>\n",
       "    <tr>\n",
       "      <th>3</th>\n",
       "      <td>3191244</td>\n",
       "      <td>0</td>\n",
       "      <td>2021-03-23 08:54:00+00:00</td>\n",
       "      <td>0</td>\n",
       "      <td>367</td>\n",
       "      <td>5.0</td>\n",
       "      <td>Yes</td>\n",
       "    </tr>\n",
       "    <tr>\n",
       "      <th>4</th>\n",
       "      <td>3274222</td>\n",
       "      <td>0</td>\n",
       "      <td>2021-04-06 13:52:39+00:00</td>\n",
       "      <td>0</td>\n",
       "      <td>0</td>\n",
       "      <td>5.0</td>\n",
       "      <td>No</td>\n",
       "    </tr>\n",
       "  </tbody>\n",
       "</table>\n",
       "</div>"
      ],
      "text/plain": [
       "   Customer ID  Is Blocked                Created At  Outstanding Amount  \\\n",
       "0      3144837           0 2021-03-15 17:13:19+00:00                   0   \n",
       "1      3174590           0 2021-03-20 14:15:11+00:00                   0   \n",
       "2      3181998           0 2021-03-21 15:36:51+00:00                   0   \n",
       "3      3191244           0 2021-03-23 08:54:00+00:00                   0   \n",
       "4      3274222           0 2021-04-06 13:52:39+00:00                   0   \n",
       "\n",
       "   Loyalty Points  Number of Employees Returning customer  \n",
       "0               0                  5.0                 No  \n",
       "1               0                  5.0                 No  \n",
       "2               0                  5.0                 No  \n",
       "3             367                  5.0                Yes  \n",
       "4               0                  5.0                 No  "
      ]
     },
     "execution_count": 198,
     "metadata": {},
     "output_type": "execute_result"
    }
   ],
   "source": [
    "customers.head()"
   ]
  },
  {
   "cell_type": "code",
   "execution_count": 179,
   "id": "cdccf27b",
   "metadata": {},
   "outputs": [
    {
     "data": {
      "text/plain": [
       "Yes    3158\n",
       "No     2114\n",
       "Name: Returning customer, dtype: int64"
      ]
     },
     "execution_count": 179,
     "metadata": {},
     "output_type": "execute_result"
    }
   ],
   "source": [
    "#Number of returning customers\n",
    "customers['Returning customer'].value_counts()"
   ]
  },
  {
   "cell_type": "code",
   "execution_count": 180,
   "id": "69f71660",
   "metadata": {},
   "outputs": [
    {
     "data": {
      "text/plain": [
       "<AxesSubplot:xlabel='Returning customer', ylabel='count'>"
      ]
     },
     "execution_count": 180,
     "metadata": {},
     "output_type": "execute_result"
    },
    {
     "data": {
      "image/png": "[encoded data removed]",
      "text/plain": [
       "<Figure size 432x288 with 1 Axes>"
      ]
     },
     "metadata": {
      "needs_background": "light"
     },
     "output_type": "display_data"
    }
   ],
   "source": [
    "#visualize\n",
    "sns.countplot(customers['Returning customer'])"
   ]
  },
  {
   "cell_type": "code",
   "execution_count": 189,
   "id": "25b8c39a",
   "metadata": {},
   "outputs": [
    {
     "data": {
      "image/png": "[encoded data removed]",
      "text/plain": [
       "<Figure size 2016x576 with 2 Axes>"
      ]
     },
     "metadata": {
      "needs_background": "light"
     },
     "output_type": "display_data"
    }
   ],
   "source": [
    "numerical = ['Number of Employees','Loyalty Points']\n",
    "fig , ax = plt.subplots(1,2, figsize=(28,8))\n",
    "customers[customers['Returning customer'] == 'Yes'][numerical].hist(bins=20, color=\"blue\", alpha=0.5, ax=ax);\n",
    "customers[customers['Returning customer'] == 'No'][numerical].hist(bins=20, color=\"orange\", alpha=0.5, ax=ax);\n"
   ]
  },
  {
   "cell_type": "code",
   "execution_count": 234,
   "id": "0b7eced3",
   "metadata": {},
   "outputs": [
    {
     "data": {
      "text/plain": [
       "<AxesSubplot:>"
      ]
     },
     "execution_count": 234,
     "metadata": {},
     "output_type": "execute_result"
    },
    {
     "data": {
      "image/png": "[encoded data removed]",
      "text/plain": [
       "<Figure size 432x288 with 2 Axes>"
      ]
     },
     "metadata": {
      "needs_background": "light"
     },
     "output_type": "display_data"
    }
   ],
   "source": [
    "corr = customers.corr()\n",
    "sns.heatmap(corr, \n",
    "            xticklabels=corr.columns.values,\n",
    "            yticklabels=corr.columns.values)"
   ]
  },
  {
   "cell_type": "code",
   "execution_count": 190,
   "id": "cb858b59",
   "metadata": {},
   "outputs": [
    {
     "data": {
      "text/plain": [
       "Customer ID              int64\n",
       "Is Blocked               int64\n",
       "Created At              object\n",
       "Language                object\n",
       "Outstanding Amount       int64\n",
       "Loyalty Points           int64\n",
       "Number of Employees    float64\n",
       "Returning customer      object\n",
       "dtype: object"
      ]
     },
     "execution_count": 190,
     "metadata": {},
     "output_type": "execute_result"
    }
   ],
   "source": [
    "customers.dtypes"
   ]
  },
  {
   "cell_type": "code",
   "execution_count": 191,
   "id": "34a6ccf5",
   "metadata": {},
   "outputs": [],
   "source": [
    "#Convert created at column to date time\n",
    "customers['Created At'] = pd.to_datetime(customers['Created At'])"
   ]
  },
  {
   "cell_type": "code",
   "execution_count": 201,
   "id": "3081fab6",
   "metadata": {},
   "outputs": [],
   "source": [
    "#Convert all the non-numeric columns to numerical data types\n",
    "customers['Returning customer'] = LabelEncoder().fit_transform(customers['Returning customer'])"
   ]
  },
  {
   "cell_type": "code",
   "execution_count": 207,
   "id": "ab01c11e",
   "metadata": {},
   "outputs": [
    {
     "data": {
      "text/plain": [
       "Customer ID              int64\n",
       "Is Blocked               int64\n",
       "Created At               int64\n",
       "Outstanding Amount       int64\n",
       "Loyalty Points           int64\n",
       "Number of Employees    float64\n",
       "Returning customer       int32\n",
       "dtype: object"
      ]
     },
     "execution_count": 207,
     "metadata": {},
     "output_type": "execute_result"
    }
   ],
   "source": [
    "customers.dtypes"
   ]
  },
  {
   "cell_type": "code",
   "execution_count": 206,
   "id": "7b7444e6",
   "metadata": {},
   "outputs": [],
   "source": [
    "customers['Created At'] = pd.to_numeric(pd.to_datetime(customers['Created At']))"
   ]
  },
  {
   "cell_type": "markdown",
   "id": "c398a4f2",
   "metadata": {},
   "source": [
    "## Customer retention  model "
   ]
  },
  {
   "cell_type": "code",
   "execution_count": 209,
   "id": "5b0d651d",
   "metadata": {},
   "outputs": [],
   "source": [
    "#Scale the cleaned data\n",
    "X = customers.drop('Returning customer', axis = 1) \n",
    "y = customers['Returning customer']"
   ]
  },
  {
   "cell_type": "code",
   "execution_count": 210,
   "id": "f370e076",
   "metadata": {},
   "outputs": [],
   "source": [
    "#Standardizing/scaling the features\n",
    "\n",
    "X = StandardScaler().fit_transform(X)"
   ]
  },
  {
   "cell_type": "code",
   "execution_count": 214,
   "id": "36bf88f5",
   "metadata": {},
   "outputs": [],
   "source": [
    "#Split the data into 80% training and 20% testing\n",
    "x_train, x_test, y_train, y_test = train_test_split(X, y, test_size=0.2, random_state=42)"
   ]
  },
  {
   "cell_type": "code",
   "execution_count": 215,
   "id": "c432d2ec",
   "metadata": {},
   "outputs": [
    {
     "data": {
      "text/plain": [
       "LogisticRegression()"
      ]
     },
     "execution_count": 215,
     "metadata": {},
     "output_type": "execute_result"
    }
   ],
   "source": [
    "#Create and train the baseline model\n",
    "model = LogisticRegression()\n",
    "model.fit(x_train, y_train)"
   ]
  },
  {
   "cell_type": "code",
   "execution_count": 216,
   "id": "34c89296",
   "metadata": {},
   "outputs": [
    {
     "name": "stdout",
     "output_type": "stream",
     "text": [
      "[1 0 1 ... 0 1 1]\n"
     ]
    }
   ],
   "source": [
    "predictions = model.predict(x_test)\n",
    "print(predictions)"
   ]
  },
  {
   "cell_type": "code",
   "execution_count": 217,
   "id": "24d89d87",
   "metadata": {},
   "outputs": [
    {
     "name": "stdout",
     "output_type": "stream",
     "text": [
      "              precision    recall  f1-score   support\n",
      "\n",
      "           0       0.75      0.97      0.84       428\n",
      "           1       0.98      0.77      0.86       627\n",
      "\n",
      "    accuracy                           0.85      1055\n",
      "   macro avg       0.86      0.87      0.85      1055\n",
      "weighted avg       0.88      0.85      0.86      1055\n",
      "\n"
     ]
    }
   ],
   "source": [
    "#Check precision, recall, f1-score\n",
    "print( classification_report(y_test, predictions) )"
   ]
  },
  {
   "cell_type": "code",
   "execution_count": 230,
   "id": "55963c50",
   "metadata": {},
   "outputs": [
    {
     "name": "stdout",
     "output_type": "stream",
     "text": [
      "Accuracy: 85.50%\n"
     ]
    }
   ],
   "source": [
    "accuracy = accuracy_score(y_test, predictions)\n",
    "print(\"Accuracy: %.2f%%\" % (accuracy * 100.0))"
   ]
  },
  {
   "cell_type": "code",
   "execution_count": 231,
   "id": "1061b387",
   "metadata": {},
   "outputs": [
    {
     "name": "stdout",
     "output_type": "stream",
     "text": [
      "[13:43:44] WARNING: C:/Users/Administrator/workspace/xgboost-win64_release_1.5.1/src/learner.cc:1115: Starting in XGBoost 1.3.0, the default evaluation metric used with the objective 'binary:logistic' was changed from 'error' to 'logloss'. Explicitly set eval_metric if you'd like to restore the old behavior.\n"
     ]
    },
    {
     "data": {
      "text/plain": [
       "XGBClassifier(base_score=0.5, booster='gbtree', colsample_bylevel=1,\n",
       "              colsample_bynode=1, colsample_bytree=1, enable_categorical=False,\n",
       "              gamma=0, gpu_id=-1, importance_type=None,\n",
       "              interaction_constraints='', learning_rate=0.300000012,\n",
       "              max_delta_step=0, max_depth=6, min_child_weight=1, missing=nan,\n",
       "              monotone_constraints='()', n_estimators=100, n_jobs=8,\n",
       "              num_parallel_tree=1, predictor='auto', random_state=0,\n",
       "              reg_alpha=0, reg_lambda=1, scale_pos_weight=1, subsample=1,\n",
       "              tree_method='exact', validate_parameters=1, verbosity=None)"
      ]
     },
     "execution_count": 231,
     "metadata": {},
     "output_type": "execute_result"
    }
   ],
   "source": [
    "#Model 2\n",
    "model2 = XGBClassifier()\n",
    "model2.fit(x_train, y_train)"
   ]
  },
  {
   "cell_type": "code",
   "execution_count": 232,
   "id": "dbe6624c",
   "metadata": {},
   "outputs": [],
   "source": [
    "y_pred = model2.predict(x_test)\n",
    "predictions_ = [round(value) for value in y_pred]"
   ]
  },
  {
   "cell_type": "code",
   "execution_count": 233,
   "id": "963528e6",
   "metadata": {},
   "outputs": [
    {
     "name": "stdout",
     "output_type": "stream",
     "text": [
      "Accuracy: 100.00%\n"
     ]
    }
   ],
   "source": [
    "accuracy = accuracy_score(y_test, predictions_)\n",
    "print(\"Accuracy: %.2f%%\" % (accuracy * 100.0))"
   ]
  },
  {
   "cell_type": "code",
   "execution_count": null,
   "id": "6a93fe78",
   "metadata": {},
   "outputs": [],
   "source": [
    "#The dataset is optimally analysed using a less complex model like LogisticRegression."
   ]
  },
  {
   "cell_type": "markdown",
   "id": "c69cf786",
   "metadata": {},
   "source": [
    "## Customer segmentation"
   ]
  },
  {
   "cell_type": "markdown",
   "id": "d90c07e9",
   "metadata": {},
   "source": [
    "### Using the customer dataset and performing KMEANS Clustering to classify customers"
   ]
  },
  {
   "cell_type": "code",
   "execution_count": 262,
   "id": "054fef5f",
   "metadata": {},
   "outputs": [
    {
     "name": "stdout",
     "output_type": "stream",
     "text": [
      "<class 'pandas.core.frame.DataFrame'>\n",
      "Int64Index: 5272 entries, 0 to 1094\n",
      "Data columns (total 7 columns):\n",
      " #   Column               Non-Null Count  Dtype  \n",
      "---  ------               --------------  -----  \n",
      " 0   Customer ID          5272 non-null   int64  \n",
      " 1   Is Blocked           5272 non-null   int64  \n",
      " 2   Created At           5272 non-null   int64  \n",
      " 3   Outstanding Amount   5272 non-null   int64  \n",
      " 4   Loyalty Points       5272 non-null   int64  \n",
      " 5   Number of Employees  5272 non-null   float64\n",
      " 6   Returning customer   5272 non-null   int32  \n",
      "dtypes: float64(1), int32(1), int64(5)\n",
      "memory usage: 437.9 KB\n"
     ]
    }
   ],
   "source": [
    "customers.info()"
   ]
  },
  {
   "cell_type": "code",
   "execution_count": 263,
   "id": "e838411b",
   "metadata": {},
   "outputs": [],
   "source": [
    "X_values = customers.iloc[:,[3,4]].values"
   ]
  },
  {
   "cell_type": "code",
   "execution_count": 264,
   "id": "054deb1a",
   "metadata": {},
   "outputs": [
    {
     "data": {
      "text/plain": [
       "array([[ 0,  0],\n",
       "       [ 0,  0],\n",
       "       [ 0,  0],\n",
       "       ...,\n",
       "       [ 0, 42],\n",
       "       [ 0,  0],\n",
       "       [ 0,  0]], dtype=int64)"
      ]
     },
     "execution_count": 264,
     "metadata": {},
     "output_type": "execute_result"
    }
   ],
   "source": [
    "X_values"
   ]
  },
  {
   "cell_type": "code",
   "execution_count": null,
   "id": "0b27ba38",
   "metadata": {},
   "outputs": [],
   "source": []
  },
  {
   "cell_type": "markdown",
   "id": "ec1f30f0",
   "metadata": {},
   "source": [
    "`Determining the value of K using Elbow method`"
   ]
  },
  {
   "cell_type": "code",
   "execution_count": 265,
   "id": "e0f98ec0",
   "metadata": {},
   "outputs": [],
   "source": [
    "sum_squares = []"
   ]
  },
  {
   "cell_type": "code",
   "execution_count": 266,
   "id": "56c9bbf6",
   "metadata": {},
   "outputs": [],
   "source": [
    "for i in range(1,11):\n",
    "    kmeans = KMeans(n_clusters=i, init = 'k-means++', random_state=0)\n",
    "    kmeans.fit(X_values)\n",
    "    sum_squares.append(kmeans.inertia_)\n",
    "    "
   ]
  },
  {
   "cell_type": "code",
   "execution_count": 267,
   "id": "c93ec372",
   "metadata": {
    "scrolled": true
   },
   "outputs": [
    {
     "data": {
      "image/png": "[encoded data removed]",
      "text/plain": [
       "<Figure size 432x288 with 1 Axes>"
      ]
     },
     "metadata": {
      "needs_background": "light"
     },
     "output_type": "display_data"
    }
   ],
   "source": [
    "plt.plot(range(1,11),sum_squares)\n",
    "plt.title('The Elbow Method')\n",
    "plt.xlabel('No. of Clusters')\n",
    "plt.ylabel('Sum of squared values')\n",
    "plt.show()"
   ]
  },
  {
   "cell_type": "markdown",
   "id": "5b78b16c",
   "metadata": {},
   "source": [
    "`From the diagram the optimal number of clusters is 4`"
   ]
  },
  {
   "cell_type": "code",
   "execution_count": 268,
   "id": "f1c1ac36",
   "metadata": {},
   "outputs": [],
   "source": [
    "kmeans_model = KMeans(n_clusters=4, init='k-means++', random_state=0)"
   ]
  },
  {
   "cell_type": "code",
   "execution_count": 269,
   "id": "f55bfd83",
   "metadata": {},
   "outputs": [],
   "source": [
    "y_kmeans = kmeans_model.fit_predict(X_values)"
   ]
  },
  {
   "cell_type": "code",
   "execution_count": 270,
   "id": "98d8de03",
   "metadata": {},
   "outputs": [
    {
     "data": {
      "image/png": "[encoded data removed]",
      "text/plain": [
       "<Figure size 432x288 with 1 Axes>"
      ]
     },
     "metadata": {
      "needs_background": "light"
     },
     "output_type": "display_data"
    }
   ],
   "source": [
    "plt.scatter(X_values[y_kmeans == 0,0],X_values[y_kmeans == 0,1], s=80, c = 'red', label = 'Customer 1')\n",
    "plt.scatter(X_values[y_kmeans == 1,0],X_values[y_kmeans == 1,1], s=80, c = 'blue', label = 'Customer 2')\n",
    "plt.scatter(X_values[y_kmeans == 2,0],X_values[y_kmeans == 2,1], s=80, c = 'yellow', label = 'Customer 3')\n",
    "plt.scatter(X_values[y_kmeans == 3,0],X_values[y_kmeans == 3,1], s=80, c = 'black', label = 'Customer 4')\n",
    "\n",
    "plt.scatter(kmeans.cluster_centers_[:,0], kmeans.cluster_centers_[:,1], s=100,c='magenta',label='Centroids')\n",
    "plt.title('Clusters of Customers')\n",
    "plt.xlabel('Number of Employees')\n",
    "plt.ylabel('Loyalty points')\n",
    "plt.legend()\n",
    "plt.show()"
   ]
  },
  {
   "cell_type": "markdown",
   "id": "22d3859f",
   "metadata": {},
   "source": [
    "`Not enough data variations to properly cluster the customers`"
   ]
  },
  {
   "cell_type": "code",
   "execution_count": null,
   "id": "4c9467e3",
   "metadata": {},
   "outputs": [],
   "source": []
  },
  {
   "cell_type": "code",
   "execution_count": null,
   "id": "0afede43",
   "metadata": {},
   "outputs": [],
   "source": []
  },
  {
   "cell_type": "code",
   "execution_count": null,
   "id": "ecdcb4a9",
   "metadata": {},
   "outputs": [],
   "source": []
  },
  {
   "cell_type": "markdown",
   "id": "476830d2",
   "metadata": {},
   "source": [
    "## Orders Data Analysis"
   ]
  },
  {
   "cell_type": "code",
   "execution_count": 271,
   "id": "8ecd00a7",
   "metadata": {},
   "outputs": [
    {
     "name": "stdout",
     "output_type": "stream",
     "text": [
      "<class 'pandas.core.frame.DataFrame'>\n",
      "Int64Index: 13671 entries, 0 to 1428\n",
      "Data columns (total 24 columns):\n",
      " #   Column                  Non-Null Count  Dtype  \n",
      "---  ------                  --------------  -----  \n",
      " 0   Order ID                13671 non-null  int64  \n",
      " 1   Order Status            13671 non-null  object \n",
      " 2   Category Name           13671 non-null  object \n",
      " 3   SKU                     13671 non-null  object \n",
      " 4   Quantity                13671 non-null  int64  \n",
      " 5   Unit Price              13671 non-null  int64  \n",
      " 6   Cost Price              13671 non-null  object \n",
      " 7   Total Cost Price        13671 non-null  object \n",
      " 8   Total Price             13671 non-null  int64  \n",
      " 9   Order Total             13671 non-null  float64\n",
      " 10  Sub Total               13671 non-null  int64  \n",
      " 11  Remaining Balance       13671 non-null  int64  \n",
      " 12  Payment Method          13671 non-null  object \n",
      " 13  Transaction ID          13671 non-null  int64  \n",
      " 14  Currency Symbol         13671 non-null  object \n",
      " 15  Customer ID             13671 non-null  int64  \n",
      " 16  Merchant ID             13671 non-null  int64  \n",
      " 17  Store Name              13671 non-null  object \n",
      " 18  Distance (in km)        13671 non-null  float64\n",
      " 19  Order Time              13671 non-null  object \n",
      " 20  Pickup Time             13671 non-null  object \n",
      " 21  Delivery Time           13671 non-null  object \n",
      " 22  Order Preparation Time  13671 non-null  int64  \n",
      " 23  Flat Discount           13671 non-null  int64  \n",
      "dtypes: float64(2), int64(11), object(11)\n",
      "memory usage: 2.6+ MB\n"
     ]
    }
   ],
   "source": [
    "Orders.info()"
   ]
  },
  {
   "cell_type": "code",
   "execution_count": 282,
   "id": "02799295",
   "metadata": {},
   "outputs": [
    {
     "data": {
      "text/plain": [
       "702"
      ]
     },
     "execution_count": 282,
     "metadata": {},
     "output_type": "execute_result"
    }
   ],
   "source": [
    "Orders['Customer ID'].nunique()"
   ]
  },
  {
   "cell_type": "code",
   "execution_count": 276,
   "id": "49721b45",
   "metadata": {},
   "outputs": [],
   "source": [
    "#Top orders\n",
    "Number_of_orders = Orders.groupby('Category Name').agg({'Quantity':'sum'})"
   ]
  },
  {
   "cell_type": "code",
   "execution_count": 274,
   "id": "14b7b83d",
   "metadata": {},
   "outputs": [
    {
     "name": "stdout",
     "output_type": "stream",
     "text": [
      "                     Quantity\n",
      "Category Name                \n",
      "Beer & Bitters              3\n",
      "Beverages                 494\n",
      "Cleaning & Hygiene       2833\n",
      "Cooking Fat & Oil        6504\n",
      "Flour & Sugar           14051\n",
      "Fruits & Vegetables      4045\n",
      "Meat & Fish              1606\n",
      "Noodles & Spaghetti       369\n",
      "Packaging                1678\n",
      "Rice & Cereals            971\n",
      "Salt & Seasoning         3596\n",
      "Spreads                   106\n",
      "Vegetables                117\n",
      "Wine                        2\n"
     ]
    }
   ],
   "source": [
    "print(Number_of_orders)"
   ]
  },
  {
   "cell_type": "code",
   "execution_count": 280,
   "id": "de157297",
   "metadata": {},
   "outputs": [
    {
     "data": {
      "text/html": [
       "<div>\n",
       "<style scoped>\n",
       "    .dataframe tbody tr th:only-of-type {\n",
       "        vertical-align: middle;\n",
       "    }\n",
       "\n",
       "    .dataframe tbody tr th {\n",
       "        vertical-align: top;\n",
       "    }\n",
       "\n",
       "    .dataframe thead th {\n",
       "        text-align: right;\n",
       "    }\n",
       "</style>\n",
       "<table border=\"1\" class=\"dataframe\">\n",
       "  <thead>\n",
       "    <tr style=\"text-align: right;\">\n",
       "      <th></th>\n",
       "      <th>Order ID</th>\n",
       "      <th>Order Status</th>\n",
       "      <th>Category Name</th>\n",
       "      <th>SKU</th>\n",
       "      <th>Quantity</th>\n",
       "      <th>Unit Price</th>\n",
       "      <th>Cost Price</th>\n",
       "      <th>Total Cost Price</th>\n",
       "      <th>Total Price</th>\n",
       "      <th>Order Total</th>\n",
       "      <th>...</th>\n",
       "      <th>Currency Symbol</th>\n",
       "      <th>Customer ID</th>\n",
       "      <th>Merchant ID</th>\n",
       "      <th>Store Name</th>\n",
       "      <th>Distance (in km)</th>\n",
       "      <th>Order Time</th>\n",
       "      <th>Pickup Time</th>\n",
       "      <th>Delivery Time</th>\n",
       "      <th>Order Preparation Time</th>\n",
       "      <th>Flat Discount</th>\n",
       "    </tr>\n",
       "  </thead>\n",
       "  <tbody>\n",
       "    <tr>\n",
       "      <th>0</th>\n",
       "      <td>11265015</td>\n",
       "      <td>ORDERED</td>\n",
       "      <td>Cooking Fat &amp; Oil</td>\n",
       "      <td>KKCO0487</td>\n",
       "      <td>1</td>\n",
       "      <td>4400</td>\n",
       "      <td>4250</td>\n",
       "      <td>4250</td>\n",
       "      <td>4400</td>\n",
       "      <td>4350.0</td>\n",
       "      <td>...</td>\n",
       "      <td>KSh</td>\n",
       "      <td>3755460</td>\n",
       "      <td>893555</td>\n",
       "      <td>Topup Mama</td>\n",
       "      <td>10.90</td>\n",
       "      <td>2022-02-17T16:36:27.000Z</td>\n",
       "      <td>2022-02-17T16:37:16.000Z</td>\n",
       "      <td>2022-02-18T08:00:00.000Z</td>\n",
       "      <td>0</td>\n",
       "      <td>0</td>\n",
       "    </tr>\n",
       "    <tr>\n",
       "      <th>1</th>\n",
       "      <td>11264651</td>\n",
       "      <td>ORDERED</td>\n",
       "      <td>Cleaning &amp; Hygiene</td>\n",
       "      <td>KKPT280100</td>\n",
       "      <td>1</td>\n",
       "      <td>180</td>\n",
       "      <td>130</td>\n",
       "      <td>130</td>\n",
       "      <td>180</td>\n",
       "      <td>7255.0</td>\n",
       "      <td>...</td>\n",
       "      <td>KSh</td>\n",
       "      <td>4541187</td>\n",
       "      <td>893555</td>\n",
       "      <td>Topup Mama</td>\n",
       "      <td>6.99</td>\n",
       "      <td>2022-02-17T16:19:05.000Z</td>\n",
       "      <td>2022-02-17T16:19:53.000Z</td>\n",
       "      <td>2022-02-18T09:00:00.000Z</td>\n",
       "      <td>0</td>\n",
       "      <td>0</td>\n",
       "    </tr>\n",
       "    <tr>\n",
       "      <th>2</th>\n",
       "      <td>11264651</td>\n",
       "      <td>ORDERED</td>\n",
       "      <td>Flour &amp; Sugar</td>\n",
       "      <td>KKFS0702</td>\n",
       "      <td>6</td>\n",
       "      <td>263</td>\n",
       "      <td>247</td>\n",
       "      <td>1482</td>\n",
       "      <td>1578</td>\n",
       "      <td>7255.0</td>\n",
       "      <td>...</td>\n",
       "      <td>KSh</td>\n",
       "      <td>4541187</td>\n",
       "      <td>893555</td>\n",
       "      <td>Topup Mama</td>\n",
       "      <td>6.99</td>\n",
       "      <td>2022-02-17T16:19:05.000Z</td>\n",
       "      <td>2022-02-17T16:19:53.000Z</td>\n",
       "      <td>2022-02-18T09:00:00.000Z</td>\n",
       "      <td>0</td>\n",
       "      <td>0</td>\n",
       "    </tr>\n",
       "    <tr>\n",
       "      <th>3</th>\n",
       "      <td>11264651</td>\n",
       "      <td>ORDERED</td>\n",
       "      <td>Salt &amp; Seasoning</td>\n",
       "      <td>KKSS0002</td>\n",
       "      <td>10</td>\n",
       "      <td>65</td>\n",
       "      <td>58</td>\n",
       "      <td>580</td>\n",
       "      <td>650</td>\n",
       "      <td>7255.0</td>\n",
       "      <td>...</td>\n",
       "      <td>KSh</td>\n",
       "      <td>4541187</td>\n",
       "      <td>893555</td>\n",
       "      <td>Topup Mama</td>\n",
       "      <td>6.99</td>\n",
       "      <td>2022-02-17T16:19:05.000Z</td>\n",
       "      <td>2022-02-17T16:19:53.000Z</td>\n",
       "      <td>2022-02-18T09:00:00.000Z</td>\n",
       "      <td>0</td>\n",
       "      <td>0</td>\n",
       "    </tr>\n",
       "    <tr>\n",
       "      <th>4</th>\n",
       "      <td>11264651</td>\n",
       "      <td>ORDERED</td>\n",
       "      <td>Beverages</td>\n",
       "      <td>KKBE0105</td>\n",
       "      <td>1</td>\n",
       "      <td>249</td>\n",
       "      <td>208.5</td>\n",
       "      <td>208.5</td>\n",
       "      <td>249</td>\n",
       "      <td>7255.0</td>\n",
       "      <td>...</td>\n",
       "      <td>KSh</td>\n",
       "      <td>4541187</td>\n",
       "      <td>893555</td>\n",
       "      <td>Topup Mama</td>\n",
       "      <td>6.99</td>\n",
       "      <td>2022-02-17T16:19:05.000Z</td>\n",
       "      <td>2022-02-17T16:19:53.000Z</td>\n",
       "      <td>2022-02-18T09:00:00.000Z</td>\n",
       "      <td>0</td>\n",
       "      <td>0</td>\n",
       "    </tr>\n",
       "  </tbody>\n",
       "</table>\n",
       "<p>5 rows × 24 columns</p>\n",
       "</div>"
      ],
      "text/plain": [
       "   Order ID Order Status       Category Name         SKU  Quantity  \\\n",
       "0  11265015      ORDERED   Cooking Fat & Oil    KKCO0487         1   \n",
       "1  11264651      ORDERED  Cleaning & Hygiene  KKPT280100         1   \n",
       "2  11264651      ORDERED       Flour & Sugar    KKFS0702         6   \n",
       "3  11264651      ORDERED    Salt & Seasoning    KKSS0002        10   \n",
       "4  11264651      ORDERED           Beverages    KKBE0105         1   \n",
       "\n",
       "   Unit Price Cost Price Total Cost Price  Total Price  Order Total  ...  \\\n",
       "0        4400       4250             4250         4400       4350.0  ...   \n",
       "1         180        130              130          180       7255.0  ...   \n",
       "2         263        247             1482         1578       7255.0  ...   \n",
       "3          65         58              580          650       7255.0  ...   \n",
       "4         249      208.5            208.5          249       7255.0  ...   \n",
       "\n",
       "   Currency Symbol  Customer ID Merchant ID  Store Name Distance (in km)  \\\n",
       "0              KSh      3755460      893555  Topup Mama            10.90   \n",
       "1              KSh      4541187      893555  Topup Mama             6.99   \n",
       "2              KSh      4541187      893555  Topup Mama             6.99   \n",
       "3              KSh      4541187      893555  Topup Mama             6.99   \n",
       "4              KSh      4541187      893555  Topup Mama             6.99   \n",
       "\n",
       "                 Order Time               Pickup Time  \\\n",
       "0  2022-02-17T16:36:27.000Z  2022-02-17T16:37:16.000Z   \n",
       "1  2022-02-17T16:19:05.000Z  2022-02-17T16:19:53.000Z   \n",
       "2  2022-02-17T16:19:05.000Z  2022-02-17T16:19:53.000Z   \n",
       "3  2022-02-17T16:19:05.000Z  2022-02-17T16:19:53.000Z   \n",
       "4  2022-02-17T16:19:05.000Z  2022-02-17T16:19:53.000Z   \n",
       "\n",
       "              Delivery Time  Order Preparation Time Flat Discount  \n",
       "0  2022-02-18T08:00:00.000Z                       0             0  \n",
       "1  2022-02-18T09:00:00.000Z                       0             0  \n",
       "2  2022-02-18T09:00:00.000Z                       0             0  \n",
       "3  2022-02-18T09:00:00.000Z                       0             0  \n",
       "4  2022-02-18T09:00:00.000Z                       0             0  \n",
       "\n",
       "[5 rows x 24 columns]"
      ]
     },
     "execution_count": 280,
     "metadata": {},
     "output_type": "execute_result"
    }
   ],
   "source": [
    "Orders.head()"
   ]
  },
  {
   "cell_type": "code",
   "execution_count": 279,
   "id": "15bde4b7",
   "metadata": {},
   "outputs": [
    {
     "data": {
      "text/plain": [
       "Index(['Order ID', 'Order Status', 'Category Name', 'SKU', 'Quantity',\n",
       "       'Unit Price', 'Cost Price', 'Total Cost Price', 'Total Price',\n",
       "       'Order Total', 'Sub Total', 'Remaining Balance', 'Payment Method',\n",
       "       'Transaction ID', 'Currency Symbol', 'Customer ID', 'Merchant ID',\n",
       "       'Store Name', 'Distance (in km)', 'Order Time', 'Pickup Time',\n",
       "       'Delivery Time', 'Order Preparation Time', 'Flat Discount'],\n",
       "      dtype='object')"
      ]
     },
     "execution_count": 279,
     "metadata": {},
     "output_type": "execute_result"
    }
   ],
   "source": [
    "Orders.columns"
   ]
  },
  {
   "cell_type": "code",
   "execution_count": null,
   "id": "76fd0e39",
   "metadata": {},
   "outputs": [],
   "source": [
    "O = Number_of_orders.sum()\n",
    "C = Orders['Customer ID'].nunique()"
   ]
  },
  {
   "cell_type": "code",
   "execution_count": 284,
   "id": "05c3706a",
   "metadata": {},
   "outputs": [
    {
     "data": {
      "text/plain": [
       "Quantity    36375\n",
       "dtype: int64"
      ]
     },
     "execution_count": 284,
     "metadata": {},
     "output_type": "execute_result"
    }
   ],
   "source": [
    "Number_of_orders.sum()"
   ]
  },
  {
   "cell_type": "code",
   "execution_count": null,
   "id": "f9bf064b",
   "metadata": {},
   "outputs": [],
   "source": []
  },
  {
   "cell_type": "code",
   "execution_count": 295,
   "id": "39d929b1",
   "metadata": {},
   "outputs": [],
   "source": [
    "customers.to_csv('customers.csv')\n",
    "Orders.to_csv('orders.csv')\n",
    "deliveries.to_csv('deliveries.csv')"
   ]
  },
  {
   "cell_type": "code",
   "execution_count": null,
   "id": "0d5bc0d2",
   "metadata": {},
   "outputs": [],
   "source": []
  }
 ],
 "metadata": {
  "kernelspec": {
   "display_name": "Python 3",
   "language": "python",
   "name": "python3"
  },
  "language_info": {
   "codemirror_mode": {
    "name": "ipython",
    "version": 3
   },
   "file_extension": ".py",
   "mimetype": "text/x-python",
   "name": "python",
   "nbconvert_exporter": "python",
   "pygments_lexer": "ipython3",
   "version": "3.8.8"
  }
 },
 "nbformat": 4,
 "nbformat_minor": 5
}
